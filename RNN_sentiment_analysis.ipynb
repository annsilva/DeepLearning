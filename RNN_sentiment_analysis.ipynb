{
 "cells": [
  {
   "cell_type": "markdown",
   "metadata": {},
   "source": [
    "## Understanding Sentiment Analysis and RNNs\n",
    "### Sentiment Analysis\n",
    "Definition:\n",
    "\n",
    "Sentiment analysis is a technique used to determine the emotional tone behind a piece of text. It identifies whether the sentiment is positive, negative, or neutral.\n",
    "\n",
    "#### Applications:\n",
    "\n",
    "- Customer Feedback: Understanding customer opinions about products or services.\n",
    "- Social Media Monitoring: Gauging public sentiment on social media platforms.\n",
    "- Market Research: Analyzing consumer preferences and trends.\n",
    "- Political Analysis: Assessing public opinion on political matters.\n",
    "- Healthcare: Evaluating patient feedback to improve services.\n",
    "\n",
    "#### How RNNs Differ from Traditional Feedforward Neural Networks\n",
    "1) Feedforward Neural Networks (FNNs):\n",
    "- Data flows in one direction from input to output.\n",
    "- Suitable for tasks with independent input data, like image classification.\n",
    "2) Recurrent Neural Networks (RNNs):\n",
    "- Data flows in a loop, allowing the network to retain memory of previous inputs.\n",
    "- Ideal for sequential data where inputs are dependent on previous ones, like language processing.\n",
    "\n",
    "#### Hidden States and Information Passing in RNNs\n",
    "1) Hidden States: Vectors that store information about previous inputs, acting as the network's memory.\n",
    "2) Information Passing:\n",
    "- Initialization: Starts with a zero vector or a learned parameter.\n",
    "- Update: At each time step, the hidden state is updated based on the current input and the previous hidden state, enabling the network to capture temporal dependencies.\n",
    "\n",
    "#### Common Issues with RNNs: Vanishing and Exploding Gradients\n",
    "1) Vanishing Gradients:\n",
    "- Problem: Gradients become very small, hindering the network's ability to learn long-term dependencies.\n",
    "- Solution: Use architectures like LSTM or GRU that manage gradients better.\n",
    "\n",
    "2) Exploding Gradients:\n",
    "- Problem: Gradients become too large, causing instability.\n",
    "- Solution: Apply gradient clipping to limit gradient values.\n",
    "\n",
    "By addressing these issues, RNNs can effectively learn from sequential data, making them powerful for tasks like sentiment analysis and language modeling."
   ]
  },
  {
   "cell_type": "code",
   "execution_count": 66,
   "metadata": {},
   "outputs": [
    {
     "name": "stdout",
     "output_type": "stream",
     "text": [
      "25000 train sequences\n",
      "25000 test sequences\n"
     ]
    }
   ],
   "source": [
    "import numpy as np\n",
    "from tensorflow.keras.datasets import imdb\n",
    "from tensorflow.keras.models import Sequential\n",
    "from tensorflow.keras.layers import Dense, Embedding, LSTM, Dropout\n",
    "from tensorflow.keras.preprocessing.sequence import pad_sequences\n",
    "from tensorflow.keras.callbacks import EarlyStopping\n",
    "\n",
    "# Parameters\n",
    "max_features = 10000  # Top most frequent words to consider\n",
    "maxlen = 500  # Max sequence length\n",
    "batch_size = 32\n",
    "embedding_dims = 32\n",
    "epochs = 10\n",
    "\n",
    "(x_train, y_train), (x_test, y_test) = imdb.load_data(num_words=max_features)\n",
    "print(len(x_train), 'train sequences')\n",
    "print(len(x_test), 'test sequences')"
   ]
  },
  {
   "cell_type": "code",
   "execution_count": 67,
   "metadata": {},
   "outputs": [
    {
     "name": "stdout",
     "output_type": "stream",
     "text": [
      "Pad sequences (samples x time)\n",
      "x_train shape: (25000, 500)\n",
      "x_test shape: (25000, 500)\n"
     ]
    }
   ],
   "source": [
    "# Pad sequences\n",
    "print('Pad sequences (samples x time)')\n",
    "x_train = pad_sequences(x_train, maxlen=maxlen)\n",
    "x_test = pad_sequences(x_test, maxlen=maxlen)\n",
    "print('x_train shape:', x_train.shape)\n",
    "print('x_test shape:', x_test.shape)"
   ]
  },
  {
   "cell_type": "code",
   "execution_count": 68,
   "metadata": {},
   "outputs": [
    {
     "name": "stderr",
     "output_type": "stream",
     "text": [
      "c:\\Users\\annma\\AppData\\Local\\Programs\\Python\\Python311\\Lib\\site-packages\\keras\\src\\layers\\core\\embedding.py:90: UserWarning: Argument `input_length` is deprecated. Just remove it.\n",
      "  warnings.warn(\n"
     ]
    }
   ],
   "source": [
    "# Define the model architecture\n",
    "model = Sequential()\n",
    "model.add(Embedding(max_features, embedding_dims, input_length=maxlen))\n",
    "model.add(LSTM(64, return_sequences=True))\n",
    "model.add(Dropout(0.2))\n",
    "model.add(LSTM(32, return_sequences=True))\n",
    "model.add(Dropout(0.2))\n",
    "model.add(LSTM(16))\n",
    "model.add(Dropout(0.2))\n",
    "model.add(Dense(1, activation='sigmoid'))"
   ]
  },
  {
   "cell_type": "code",
   "execution_count": null,
   "metadata": {},
   "outputs": [],
   "source": [
    "model.compile(optimizer='adam', loss='binary_crossentropy', metrics=['accuracy'])"
   ]
  },
  {
   "cell_type": "code",
   "execution_count": 71,
   "metadata": {},
   "outputs": [
    {
     "name": "stdout",
     "output_type": "stream",
     "text": [
      "x_train shape: 25000\n",
      "y_train shape: (25000,)\n",
      "x_test shape: 25000\n",
      "y_test shape: (25000,)\n"
     ]
    }
   ],
   "source": [
    "print(f\"x_train shape: {len(x_train)}\")\n",
    "print(f\"y_train shape: {y_train.shape}\")\n",
    "print(f\"x_test shape: {len(x_test)}\")\n",
    "print(f\"y_test shape: {y_test.shape}\")"
   ]
  },
  {
   "cell_type": "code",
   "execution_count": 72,
   "metadata": {},
   "outputs": [
    {
     "name": "stdout",
     "output_type": "stream",
     "text": [
      "Epoch 1/10\n",
      "\u001b[1m186/625\u001b[0m \u001b[32m━━━━━\u001b[0m\u001b[37m━━━━━━━━━━━━━━━\u001b[0m \u001b[1m8:34\u001b[0m 1s/step - accuracy: 0.6071 - loss: 0.6344"
     ]
    }
   ],
   "source": [
    "early_stopping = EarlyStopping(monitor='val_loss', patience=3, restore_best_weights=True)\n",
    "history = model.fit(x_train, y_train,\n",
    "                    batch_size=batch_size,\n",
    "                    epochs=epochs,\n",
    "                    validation_split=0.2,\n",
    "                    callbacks=[early_stopping])\n",
    "\n",
    "# Monitor the training process\n",
    "print(history.history.keys())"
   ]
  },
  {
   "cell_type": "code",
   "execution_count": null,
   "metadata": {},
   "outputs": [],
   "source": [
    "# Evaluate the model\n",
    "score, acc = model.evaluate(x_test, y_test, batch_size=batch_size)\n",
    "print('Test score:', score)\n",
    "print('Test accuracy:', acc)"
   ]
  }
 ],
 "metadata": {
  "kernelspec": {
   "display_name": "Python 3",
   "language": "python",
   "name": "python3"
  },
  "language_info": {
   "codemirror_mode": {
    "name": "ipython",
    "version": 3
   },
   "file_extension": ".py",
   "mimetype": "text/x-python",
   "name": "python",
   "nbconvert_exporter": "python",
   "pygments_lexer": "ipython3",
   "version": "3.11.3"
  }
 },
 "nbformat": 4,
 "nbformat_minor": 2
}
