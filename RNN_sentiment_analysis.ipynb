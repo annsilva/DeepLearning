{
 "cells": [
  {
   "cell_type": "markdown",
   "metadata": {},
   "source": [
    "## Understanding Sentiment Analysis and RNNs\n",
    "### Sentiment Analysis\n",
    "Definition:\n",
    "\n",
    "Sentiment analysis is a technique used to determine the emotional tone behind a piece of text. It identifies whether the sentiment is positive, negative, or neutral.\n",
    "\n",
    "#### Applications:\n",
    "\n",
    "- Customer Feedback: Understanding customer opinions about products or services.\n",
    "- Social Media Monitoring: Gauging public sentiment on social media platforms.\n",
    "- Market Research: Analyzing consumer preferences and trends.\n",
    "- Political Analysis: Assessing public opinion on political matters.\n",
    "- Healthcare: Evaluating patient feedback to improve services.\n",
    "\n",
    "#### How RNNs Differ from Traditional Feedforward Neural Networks\n",
    "1) Feedforward Neural Networks (FNNs):\n",
    "- Data flows in one direction from input to output.\n",
    "- Suitable for tasks with independent input data, like image classification.\n",
    "2) Recurrent Neural Networks (RNNs):\n",
    "- Data flows in a loop, allowing the network to retain memory of previous inputs.\n",
    "- Ideal for sequential data where inputs are dependent on previous ones, like language processing.\n",
    "\n",
    "#### Hidden States and Information Passing in RNNs\n",
    "1) Hidden States: Vectors that store information about previous inputs, acting as the network's memory.\n",
    "2) Information Passing:\n",
    "- Initialization: Starts with a zero vector or a learned parameter.\n",
    "- Update: At each time step, the hidden state is updated based on the current input and the previous hidden state, enabling the network to capture temporal dependencies.\n",
    "\n",
    "#### Common Issues with RNNs: Vanishing and Exploding Gradients\n",
    "1) Vanishing Gradients:\n",
    "- Problem: Gradients become very small, hindering the network's ability to learn long-term dependencies.\n",
    "- Solution: Use architectures like LSTM or GRU that manage gradients better.\n",
    "\n",
    "2) Exploding Gradients:\n",
    "- Problem: Gradients become too large, causing instability.\n",
    "- Solution: Apply gradient clipping to limit gradient values.\n",
    "\n",
    "By addressing these issues, RNNs can effectively learn from sequential data, making them powerful for tasks like sentiment analysis and language modeling."
   ]
  },
  {
   "cell_type": "code",
   "execution_count": 10,
   "metadata": {},
   "outputs": [],
   "source": [
    "import numpy as np\n",
    "from tensorflow.keras.datasets import imdb\n",
    "from tensorflow.keras.models import Sequential\n",
    "from tensorflow.keras.layers import Dense, Embedding, LSTM, Dropout, Flatten\n",
    "from tensorflow.keras.preprocessing.sequence import pad_sequences\n",
    "from tensorflow.keras.callbacks import EarlyStopping\n",
    "import matplotlib.pyplot as plt"
   ]
  },
  {
   "cell_type": "code",
   "execution_count": 1,
   "metadata": {},
   "outputs": [
    {
     "name": "stdout",
     "output_type": "stream",
     "text": [
      "25000 train sequences\n",
      "25000 test sequences\n"
     ]
    }
   ],
   "source": [
    "# Parameters\n",
    "max_features = 10000  # Top most frequent words to consider\n",
    "maxlen = 500  # Max sequence length\n",
    "batch_size = 64\n",
    "embedding_dims = 32\n",
    "epochs = 10\n",
    "\n",
    "(x_train, y_train), (x_test, y_test) = imdb.load_data(num_words=max_features)\n",
    "print(len(x_train), 'train sequences')\n",
    "print(len(x_test), 'test sequences')"
   ]
  },
  {
   "cell_type": "code",
   "execution_count": 2,
   "metadata": {},
   "outputs": [
    {
     "name": "stdout",
     "output_type": "stream",
     "text": [
      "Pad sequences (samples x time)\n",
      "x_train shape: (25000, 500)\n",
      "x_test shape: (25000, 500)\n"
     ]
    }
   ],
   "source": [
    "# Pad sequences\n",
    "print('Pad sequences (samples x time)')\n",
    "x_train = pad_sequences(x_train, maxlen=maxlen)\n",
    "x_test = pad_sequences(x_test, maxlen=maxlen)\n",
    "print('x_train shape:', x_train.shape)\n",
    "print('x_test shape:', x_test.shape)"
   ]
  },
  {
   "cell_type": "code",
   "execution_count": 3,
   "metadata": {},
   "outputs": [
    {
     "name": "stderr",
     "output_type": "stream",
     "text": [
      "c:\\Users\\annma\\AppData\\Local\\Programs\\Python\\Python311\\Lib\\site-packages\\keras\\src\\layers\\core\\embedding.py:90: UserWarning: Argument `input_length` is deprecated. Just remove it.\n",
      "  warnings.warn(\n"
     ]
    }
   ],
   "source": [
    "# Define the model architecture\n",
    "# model = Sequential()\n",
    "# model.add(Embedding(max_features, embedding_dims, input_length=maxlen))\n",
    "# model.add(LSTM(64, return_sequences=True))\n",
    "# model.add(Dropout(0.2))\n",
    "# model.add(LSTM(32, return_sequences=True))\n",
    "# model.add(Dropout(0.2))\n",
    "# model.add(LSTM(16))\n",
    "# model.add(Dropout(0.2))\n",
    "# model.add(Dense(1, activation='sigmoid'))"
   ]
  },
  {
   "cell_type": "code",
   "execution_count": null,
   "metadata": {},
   "outputs": [],
   "source": [
    "from tensorflow.keras.optimizers import Adam\n",
    "\n",
    "# Function to create LSTM model\n",
    "def create_lstm_model(lstm_layers=3, lstm_units=[64, 32, 16], dropout_rate=0.2, learning_rate=0.001):\n",
    "    model = Sequential()\n",
    "    model.add(Embedding(max_features, embedding_dims, input_length=maxlen))\n",
    "    \n",
    "    for i, units in enumerate(lstm_units):\n",
    "        return_sequences = i < len(lstm_units) - 1\n",
    "        model.add(LSTM(units, return_sequences=return_sequences))\n",
    "        model.add(Dropout(dropout_rate))\n",
    "    \n",
    "    model.add(Dense(1, activation='sigmoid'))\n",
    "    model.compile(optimizer=Adam(learning_rate=learning_rate), loss='binary_crossentropy', metrics=['accuracy'])\n",
    "    return model"
   ]
  },
  {
   "cell_type": "code",
   "execution_count": 4,
   "metadata": {},
   "outputs": [],
   "source": [
    "model = create_lstm_model()"
   ]
  },
  {
   "cell_type": "code",
   "execution_count": 5,
   "metadata": {},
   "outputs": [
    {
     "name": "stdout",
     "output_type": "stream",
     "text": [
      "x_train shape: 25000\n",
      "y_train shape: (25000,)\n",
      "x_test shape: 25000\n",
      "y_test shape: (25000,)\n"
     ]
    }
   ],
   "source": [
    "print(f\"x_train shape: {len(x_train)}\")\n",
    "print(f\"y_train shape: {y_train.shape}\")\n",
    "print(f\"x_test shape: {len(x_test)}\")\n",
    "print(f\"y_test shape: {y_test.shape}\")"
   ]
  },
  {
   "cell_type": "code",
   "execution_count": 6,
   "metadata": {},
   "outputs": [
    {
     "name": "stdout",
     "output_type": "stream",
     "text": [
      "Epoch 1/10\n",
      "\u001b[1m313/313\u001b[0m \u001b[32m━━━━━━━━━━━━━━━━━━━━\u001b[0m\u001b[37m\u001b[0m \u001b[1m386s\u001b[0m 1s/step - accuracy: 0.5082 - loss: 0.6959 - val_accuracy: 0.7606 - val_loss: 0.5224\n",
      "Epoch 2/10\n",
      "\u001b[1m313/313\u001b[0m \u001b[32m━━━━━━━━━━━━━━━━━━━━\u001b[0m\u001b[37m\u001b[0m \u001b[1m345s\u001b[0m 1s/step - accuracy: 0.7833 - loss: 0.4804 - val_accuracy: 0.8242 - val_loss: 0.3888\n",
      "Epoch 3/10\n",
      "\u001b[1m313/313\u001b[0m \u001b[32m━━━━━━━━━━━━━━━━━━━━\u001b[0m\u001b[37m\u001b[0m \u001b[1m8945s\u001b[0m 29s/step - accuracy: 0.8732 - loss: 0.3181 - val_accuracy: 0.8538 - val_loss: 0.3358\n",
      "Epoch 4/10\n",
      "\u001b[1m313/313\u001b[0m \u001b[32m━━━━━━━━━━━━━━━━━━━━\u001b[0m\u001b[37m\u001b[0m \u001b[1m1603s\u001b[0m 5s/step - accuracy: 0.9088 - loss: 0.2452 - val_accuracy: 0.8498 - val_loss: 0.3511\n",
      "Epoch 5/10\n",
      "\u001b[1m313/313\u001b[0m \u001b[32m━━━━━━━━━━━━━━━━━━━━\u001b[0m\u001b[37m\u001b[0m \u001b[1m345s\u001b[0m 1s/step - accuracy: 0.9324 - loss: 0.1956 - val_accuracy: 0.8738 - val_loss: 0.3357\n",
      "Epoch 6/10\n",
      "\u001b[1m313/313\u001b[0m \u001b[32m━━━━━━━━━━━━━━━━━━━━\u001b[0m\u001b[37m\u001b[0m \u001b[1m453s\u001b[0m 1s/step - accuracy: 0.9479 - loss: 0.1527 - val_accuracy: 0.8630 - val_loss: 0.3367\n",
      "Epoch 7/10\n",
      "\u001b[1m313/313\u001b[0m \u001b[32m━━━━━━━━━━━━━━━━━━━━\u001b[0m\u001b[37m\u001b[0m \u001b[1m459s\u001b[0m 1s/step - accuracy: 0.9569 - loss: 0.1320 - val_accuracy: 0.8258 - val_loss: 0.4396\n",
      "Epoch 8/10\n",
      "\u001b[1m313/313\u001b[0m \u001b[32m━━━━━━━━━━━━━━━━━━━━\u001b[0m\u001b[37m\u001b[0m \u001b[1m519s\u001b[0m 2s/step - accuracy: 0.9581 - loss: 0.1261 - val_accuracy: 0.8640 - val_loss: 0.4205\n",
      "dict_keys(['accuracy', 'loss', 'val_accuracy', 'val_loss'])\n"
     ]
    }
   ],
   "source": [
    "early_stopping = EarlyStopping(monitor='val_loss', patience=3, restore_best_weights=True)\n",
    "history = model.fit(x_train, y_train,\n",
    "                    batch_size=batch_size,\n",
    "                    epochs=epochs,\n",
    "                    validation_split=0.2,\n",
    "                    callbacks=[early_stopping])\n",
    "\n",
    "# Monitor the training process\n",
    "print(history.history.keys())"
   ]
  },
  {
   "cell_type": "code",
   "execution_count": 7,
   "metadata": {},
   "outputs": [
    {
     "name": "stdout",
     "output_type": "stream",
     "text": [
      "\u001b[1m391/391\u001b[0m \u001b[32m━━━━━━━━━━━━━━━━━━━━\u001b[0m\u001b[37m\u001b[0m \u001b[1m215s\u001b[0m 550ms/step - accuracy: 0.8627 - loss: 0.3628\n",
      "Test score: 0.35405421257019043\n",
      "Test accuracy: 0.8650400042533875\n"
     ]
    }
   ],
   "source": [
    "# Evaluate the model\n",
    "score, acc = model.evaluate(x_test, y_test, batch_size=batch_size)\n",
    "print('Test score:', score)\n",
    "print('Test accuracy:', acc)"
   ]
  },
  {
   "cell_type": "code",
   "execution_count": 8,
   "metadata": {},
   "outputs": [],
   "source": [
    "def plot_history(history, title):\n",
    "    plt.figure(figsize=(12, 4))\n",
    "\n",
    "    plt.subplot(121)\n",
    "    plt.plot(history.history['loss'], label='train')\n",
    "    plt.plot(history.history['val_loss'], label='validation')\n",
    "    plt.title(f'{title} - Loss')\n",
    "    plt.xlabel('Epoch')\n",
    "    plt.ylabel('Loss')\n",
    "    plt.legend()\n",
    "\n",
    "    plt.subplot(122)\n",
    "    plt.plot(history.history['accuracy'], label='train')\n",
    "    plt.plot(history.history['val_accuracy'], label='validation')\n",
    "    plt.title(f'{title} - Accuracy')\n",
    "    plt.xlabel('Epoch')\n",
    "    plt.ylabel('Accuracy')\n",
    "    plt.legend()\n",
    "\n",
    "    plt.tight_layout()\n",
    "    plt.show()"
   ]
  },
  {
   "cell_type": "code",
   "execution_count": 11,
   "metadata": {},
   "outputs": [
    {
     "data": {
      "image/png": "[encoded data removed]",
      "text/plain": [
       "<Figure size 864x288 with 2 Axes>"
      ]
     },
     "metadata": {
      "needs_background": "light"
     },
     "output_type": "display_data"
    }
   ],
   "source": [
    "plot_history(history, 'LSTM Model')"
   ]
  },
  {
   "cell_type": "code",
   "execution_count": null,
   "metadata": {},
   "outputs": [],
   "source": [
    "from sklearn.model_selection import RandomizedSearchCV\n",
    "from tensorflow.keras.wrappers.scikit_learn import KerasClassifier\n",
    "\n",
    "# Hyperparameter tuning for LSTM\n",
    "param_dist = {\n",
    "   # 'lstm_layers': [2, 3, 4],\n",
    "    'lstm_units': [[32, 16], [64, 32, 16], [128, 64, 32, 16]],\n",
    "    'dropout_rate': [0.1, 0.2, 0.3],\n",
    "    'learning_rate': [0.0001, 0.001, 0.01]\n",
    "}\n",
    "\n",
    "lstm_tuner = KerasClassifier(build_fn=create_lstm_model, epochs=10, batch_size=batch_size, verbose=0)\n",
    "random_search = RandomizedSearchCV(estimator=lstm_tuner, param_distributions=param_dist, n_iter=10, cv=3, verbose=2, n_jobs=-1)\n",
    "random_search.fit(x_train, y_train)\n",
    "\n",
    "print(\"Best LSTM parameters:\", random_search.best_params_)\n",
    "print(\"Best LSTM accuracy:\", random_search.best_score_)"
   ]
  },
  {
   "cell_type": "code",
   "execution_count": null,
   "metadata": {},
   "outputs": [],
   "source": [
    "random_search.best_estimator_.model.save('best_lstm_model.h5')"
   ]
  },
  {
   "cell_type": "code",
   "execution_count": null,
   "metadata": {},
   "outputs": [],
   "source": [
    "# Train the best model\n",
    "best_model = random_search.best_estimator_.model\n",
    "best_model.fit(x_train, y_train, batch_size=batch_size, epochs=epochs, validation_split=0.2, callbacks=[early_stopping])"
   ]
  },
  {
   "cell_type": "code",
   "execution_count": null,
   "metadata": {},
   "outputs": [],
   "source": [
    "# Evaluate the model\n",
    "tuning_score, tuning_acc = best_model.evaluate(x_test, y_test, batch_size=batch_size)\n",
    "print('Test score:', tuning_score)\n",
    "print('Test accuracy:', tuning_acc)"
   ]
  },
  {
   "cell_type": "code",
   "execution_count": null,
   "metadata": {},
   "outputs": [],
   "source": [
    "# Function to create feedforward NN model\n",
    "def create_ffnn_model(dense_layers=3, dense_units=[64, 32, 16], dropout_rate=0.2, learning_rate=0.001):\n",
    "    model = Sequential()\n",
    "    model.add(Embedding(max_features, embedding_dims, input_length=maxlen))\n",
    "    model.add(Flatten())\n",
    "    \n",
    "    for units in dense_units:\n",
    "        model.add(Dense(units, activation='relu'))\n",
    "        model.add(Dropout(dropout_rate))\n",
    "    \n",
    "    model.add(Dense(1, activation='sigmoid'))\n",
    "    model.compile(optimizer=Adam(learning_rate=learning_rate), loss='binary_crossentropy', metrics=['accuracy'])\n",
    "    return model"
   ]
  },
  {
   "cell_type": "code",
   "execution_count": null,
   "metadata": {},
   "outputs": [],
   "source": [
    "# Train and evaluate feedforward NN model\n",
    "ffnn_model = create_ffnn_model()\n",
    "ffnn_history = ffnn_model.fit(x_train, y_train, batch_size=batch_size, epochs=epochs,\n",
    "                              validation_split=0.2, callbacks=[early_stopping])"
   ]
  },
  {
   "cell_type": "code",
   "execution_count": null,
   "metadata": {},
   "outputs": [],
   "source": [
    "ffnn_score, ffnn_acc = ffnn_model.evaluate(x_test, y_test, batch_size=batch_size)\n",
    "print('FFNN Test score:', ffnn_score)\n",
    "print('FFNN Test accuracy:', ffnn_acc)"
   ]
  },
  {
   "cell_type": "code",
   "execution_count": null,
   "metadata": {},
   "outputs": [],
   "source": [
    "plot_history(ffnn_history, 'Feedforward NN Model')"
   ]
  },
  {
   "cell_type": "code",
   "execution_count": null,
   "metadata": {},
   "outputs": [],
   "source": [
    "# Comparative analysis\n",
    "print(\"\\nComparative Analysis:\")\n",
    "print(f\"LSTM Accuracy: {acc:.4f}\")\n",
    "print(f\"FFNN Accuracy: {ffnn_acc:.4f}\")\n",
    "print(f\"Accuracy Difference: {abs(acc - ffnn_acc):.4f}\")"
   ]
  },
  {
   "cell_type": "code",
   "execution_count": null,
   "metadata": {},
   "outputs": [],
   "source": [
    "if acc > ffnn_acc:\n",
    "    print(\"The LSTM model outperformed the Feedforward NN model.\")\n",
    "elif ffnn_acc > acc:\n",
    "    print(\"The Feedforward NN model outperformed the LSTM model.\")\n",
    "else:\n",
    "    print(\"Both models performed equally well.\")"
   ]
  }
 ],
 "metadata": {
  "kernelspec": {
   "display_name": "Python 3",
   "language": "python",
   "name": "python3"
  },
  "language_info": {
   "codemirror_mode": {
    "name": "ipython",
    "version": 3
   },
   "file_extension": ".py",
   "mimetype": "text/x-python",
   "name": "python",
   "nbconvert_exporter": "python",
   "pygments_lexer": "ipython3",
   "version": "3.11.3"
  }
 },
 "nbformat": 4,
 "nbformat_minor": 2
}
