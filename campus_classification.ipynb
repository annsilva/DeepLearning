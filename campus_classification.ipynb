{
 "cells": [
  {
   "cell_type": "markdown",
   "metadata": {},
   "source": [
    "#### Dataset Description and Preprocessing Steps\n",
    "Dataset Description: The dataset used in this project consists of student records with the goal of predicting their placement status (placed or not placed). It contains 215 entries with 15 columns, which include various academic and personal attributes such as: \\\n",
    "•\tsl_no: Serial number \\\n",
    "•\tgender: Gender of the student (binary encoded as 0 or 1) \\\n",
    "•\tssc_p: Secondary Education percentage \\\n",
    "•\tssc_b: Board of Education for secondary education (Central or Others) \\\n",
    "•\thsc_p: Higher Secondary Education percentage \\\n",
    "•\thsc_b: Board of Education for higher secondary education (Central or Others) \\\n",
    "•\thsc_s: Specialization in higher secondary education (Science, Commerce, Arts) \\\n",
    "•\tdegree_p: Degree percentage \\\n",
    "•\tdegree_t: Type of undergraduate degree (Sci&Tech, Comm&Mgmt, Others) \\\n",
    "•\tworkex: Work experience (Yes or No) \\\n",
    "•\tetest_p: E-test percentage \\\n",
    "•\tspecialisation: MBA specialization (Mkt&HR, Mkt&Fin) \\\n",
    "•\tmba_p: MBA percentage \\\n",
    "•\tstatus: Placement status (Placed or Not Placed) \\\n",
    "•\tsalary: Salary offered (only for placed students, with many missing values)\n"
   ]
  },
  {
   "cell_type": "code",
   "execution_count": 57,
   "metadata": {},
   "outputs": [],
   "source": [
    "import pandas as pd\n",
    "import numpy as np"
   ]
  },
  {
   "cell_type": "code",
   "execution_count": 58,
   "metadata": {},
   "outputs": [],
   "source": [
    "train_df = pd.read_csv('train.csv')\n",
    "test_df = pd.read_csv('test.csv')"
   ]
  },
  {
   "cell_type": "code",
   "execution_count": 59,
   "metadata": {},
   "outputs": [
    {
     "name": "stdout",
     "output_type": "stream",
     "text": [
      "<class 'pandas.core.frame.DataFrame'>\n",
      "RangeIndex: 215 entries, 0 to 214\n",
      "Data columns (total 15 columns):\n",
      " #   Column          Non-Null Count  Dtype  \n",
      "---  ------          --------------  -----  \n",
      " 0   sl_no           215 non-null    int64  \n",
      " 1   gender          215 non-null    int64  \n",
      " 2   ssc_p           215 non-null    float64\n",
      " 3   ssc_b           215 non-null    object \n",
      " 4   hsc_p           215 non-null    float64\n",
      " 5   hsc_b           215 non-null    object \n",
      " 6   hsc_s           215 non-null    object \n",
      " 7   degree_p        215 non-null    float64\n",
      " 8   degree_t        215 non-null    object \n",
      " 9   workex          215 non-null    object \n",
      " 10  etest_p         215 non-null    float64\n",
      " 11  specialisation  215 non-null    object \n",
      " 12  mba_p           215 non-null    float64\n",
      " 13  status          215 non-null    object \n",
      " 14  salary          148 non-null    float64\n",
      "dtypes: float64(6), int64(2), object(7)\n",
      "memory usage: 25.3+ KB\n"
     ]
    }
   ],
   "source": [
    "train_df.info()"
   ]
  },
  {
   "cell_type": "code",
   "execution_count": 60,
   "metadata": {},
   "outputs": [
    {
     "data": {
      "text/html": [
       "<div>\n",
       "<style scoped>\n",
       "    .dataframe tbody tr th:only-of-type {\n",
       "        vertical-align: middle;\n",
       "    }\n",
       "\n",
       "    .dataframe tbody tr th {\n",
       "        vertical-align: top;\n",
       "    }\n",
       "\n",
       "    .dataframe thead th {\n",
       "        text-align: right;\n",
       "    }\n",
       "</style>\n",
       "<table border=\"1\" class=\"dataframe\">\n",
       "  <thead>\n",
       "    <tr style=\"text-align: right;\">\n",
       "      <th></th>\n",
       "      <th>sl_no</th>\n",
       "      <th>gender</th>\n",
       "      <th>ssc_p</th>\n",
       "      <th>ssc_b</th>\n",
       "      <th>hsc_p</th>\n",
       "      <th>hsc_b</th>\n",
       "      <th>hsc_s</th>\n",
       "      <th>degree_p</th>\n",
       "      <th>degree_t</th>\n",
       "      <th>workex</th>\n",
       "      <th>etest_p</th>\n",
       "      <th>specialisation</th>\n",
       "      <th>mba_p</th>\n",
       "      <th>status</th>\n",
       "      <th>salary</th>\n",
       "    </tr>\n",
       "  </thead>\n",
       "  <tbody>\n",
       "    <tr>\n",
       "      <th>count</th>\n",
       "      <td>215.000000</td>\n",
       "      <td>215.000000</td>\n",
       "      <td>215.000000</td>\n",
       "      <td>215</td>\n",
       "      <td>215.000000</td>\n",
       "      <td>215</td>\n",
       "      <td>215</td>\n",
       "      <td>215.000000</td>\n",
       "      <td>215</td>\n",
       "      <td>215</td>\n",
       "      <td>215.000000</td>\n",
       "      <td>215</td>\n",
       "      <td>215.000000</td>\n",
       "      <td>215</td>\n",
       "      <td>148.000000</td>\n",
       "    </tr>\n",
       "    <tr>\n",
       "      <th>unique</th>\n",
       "      <td>NaN</td>\n",
       "      <td>NaN</td>\n",
       "      <td>NaN</td>\n",
       "      <td>2</td>\n",
       "      <td>NaN</td>\n",
       "      <td>2</td>\n",
       "      <td>3</td>\n",
       "      <td>NaN</td>\n",
       "      <td>3</td>\n",
       "      <td>2</td>\n",
       "      <td>NaN</td>\n",
       "      <td>2</td>\n",
       "      <td>NaN</td>\n",
       "      <td>2</td>\n",
       "      <td>NaN</td>\n",
       "    </tr>\n",
       "    <tr>\n",
       "      <th>top</th>\n",
       "      <td>NaN</td>\n",
       "      <td>NaN</td>\n",
       "      <td>NaN</td>\n",
       "      <td>Central</td>\n",
       "      <td>NaN</td>\n",
       "      <td>Others</td>\n",
       "      <td>Commerce</td>\n",
       "      <td>NaN</td>\n",
       "      <td>Comm&amp;Mgmt</td>\n",
       "      <td>No</td>\n",
       "      <td>NaN</td>\n",
       "      <td>Mkt&amp;Fin</td>\n",
       "      <td>NaN</td>\n",
       "      <td>Placed</td>\n",
       "      <td>NaN</td>\n",
       "    </tr>\n",
       "    <tr>\n",
       "      <th>freq</th>\n",
       "      <td>NaN</td>\n",
       "      <td>NaN</td>\n",
       "      <td>NaN</td>\n",
       "      <td>116</td>\n",
       "      <td>NaN</td>\n",
       "      <td>131</td>\n",
       "      <td>113</td>\n",
       "      <td>NaN</td>\n",
       "      <td>145</td>\n",
       "      <td>141</td>\n",
       "      <td>NaN</td>\n",
       "      <td>120</td>\n",
       "      <td>NaN</td>\n",
       "      <td>148</td>\n",
       "      <td>NaN</td>\n",
       "    </tr>\n",
       "    <tr>\n",
       "      <th>mean</th>\n",
       "      <td>108.000000</td>\n",
       "      <td>0.353488</td>\n",
       "      <td>67.303395</td>\n",
       "      <td>NaN</td>\n",
       "      <td>66.333163</td>\n",
       "      <td>NaN</td>\n",
       "      <td>NaN</td>\n",
       "      <td>66.370186</td>\n",
       "      <td>NaN</td>\n",
       "      <td>NaN</td>\n",
       "      <td>72.100558</td>\n",
       "      <td>NaN</td>\n",
       "      <td>62.278186</td>\n",
       "      <td>NaN</td>\n",
       "      <td>288655.405405</td>\n",
       "    </tr>\n",
       "    <tr>\n",
       "      <th>std</th>\n",
       "      <td>62.209324</td>\n",
       "      <td>0.479168</td>\n",
       "      <td>10.827205</td>\n",
       "      <td>NaN</td>\n",
       "      <td>10.897509</td>\n",
       "      <td>NaN</td>\n",
       "      <td>NaN</td>\n",
       "      <td>7.358743</td>\n",
       "      <td>NaN</td>\n",
       "      <td>NaN</td>\n",
       "      <td>13.275956</td>\n",
       "      <td>NaN</td>\n",
       "      <td>5.833385</td>\n",
       "      <td>NaN</td>\n",
       "      <td>93457.452420</td>\n",
       "    </tr>\n",
       "    <tr>\n",
       "      <th>min</th>\n",
       "      <td>1.000000</td>\n",
       "      <td>0.000000</td>\n",
       "      <td>40.890000</td>\n",
       "      <td>NaN</td>\n",
       "      <td>37.000000</td>\n",
       "      <td>NaN</td>\n",
       "      <td>NaN</td>\n",
       "      <td>50.000000</td>\n",
       "      <td>NaN</td>\n",
       "      <td>NaN</td>\n",
       "      <td>50.000000</td>\n",
       "      <td>NaN</td>\n",
       "      <td>51.210000</td>\n",
       "      <td>NaN</td>\n",
       "      <td>200000.000000</td>\n",
       "    </tr>\n",
       "    <tr>\n",
       "      <th>25%</th>\n",
       "      <td>54.500000</td>\n",
       "      <td>0.000000</td>\n",
       "      <td>60.600000</td>\n",
       "      <td>NaN</td>\n",
       "      <td>60.900000</td>\n",
       "      <td>NaN</td>\n",
       "      <td>NaN</td>\n",
       "      <td>61.000000</td>\n",
       "      <td>NaN</td>\n",
       "      <td>NaN</td>\n",
       "      <td>60.000000</td>\n",
       "      <td>NaN</td>\n",
       "      <td>57.945000</td>\n",
       "      <td>NaN</td>\n",
       "      <td>240000.000000</td>\n",
       "    </tr>\n",
       "    <tr>\n",
       "      <th>50%</th>\n",
       "      <td>108.000000</td>\n",
       "      <td>0.000000</td>\n",
       "      <td>67.000000</td>\n",
       "      <td>NaN</td>\n",
       "      <td>65.000000</td>\n",
       "      <td>NaN</td>\n",
       "      <td>NaN</td>\n",
       "      <td>66.000000</td>\n",
       "      <td>NaN</td>\n",
       "      <td>NaN</td>\n",
       "      <td>71.000000</td>\n",
       "      <td>NaN</td>\n",
       "      <td>62.000000</td>\n",
       "      <td>NaN</td>\n",
       "      <td>265000.000000</td>\n",
       "    </tr>\n",
       "    <tr>\n",
       "      <th>75%</th>\n",
       "      <td>161.500000</td>\n",
       "      <td>1.000000</td>\n",
       "      <td>75.700000</td>\n",
       "      <td>NaN</td>\n",
       "      <td>73.000000</td>\n",
       "      <td>NaN</td>\n",
       "      <td>NaN</td>\n",
       "      <td>72.000000</td>\n",
       "      <td>NaN</td>\n",
       "      <td>NaN</td>\n",
       "      <td>83.500000</td>\n",
       "      <td>NaN</td>\n",
       "      <td>66.255000</td>\n",
       "      <td>NaN</td>\n",
       "      <td>300000.000000</td>\n",
       "    </tr>\n",
       "    <tr>\n",
       "      <th>max</th>\n",
       "      <td>215.000000</td>\n",
       "      <td>1.000000</td>\n",
       "      <td>89.400000</td>\n",
       "      <td>NaN</td>\n",
       "      <td>97.700000</td>\n",
       "      <td>NaN</td>\n",
       "      <td>NaN</td>\n",
       "      <td>91.000000</td>\n",
       "      <td>NaN</td>\n",
       "      <td>NaN</td>\n",
       "      <td>98.000000</td>\n",
       "      <td>NaN</td>\n",
       "      <td>77.890000</td>\n",
       "      <td>NaN</td>\n",
       "      <td>940000.000000</td>\n",
       "    </tr>\n",
       "  </tbody>\n",
       "</table>\n",
       "</div>"
      ],
      "text/plain": [
       "             sl_no      gender       ssc_p    ssc_b       hsc_p   hsc_b  \\\n",
       "count   215.000000  215.000000  215.000000      215  215.000000     215   \n",
       "unique         NaN         NaN         NaN        2         NaN       2   \n",
       "top            NaN         NaN         NaN  Central         NaN  Others   \n",
       "freq           NaN         NaN         NaN      116         NaN     131   \n",
       "mean    108.000000    0.353488   67.303395      NaN   66.333163     NaN   \n",
       "std      62.209324    0.479168   10.827205      NaN   10.897509     NaN   \n",
       "min       1.000000    0.000000   40.890000      NaN   37.000000     NaN   \n",
       "25%      54.500000    0.000000   60.600000      NaN   60.900000     NaN   \n",
       "50%     108.000000    0.000000   67.000000      NaN   65.000000     NaN   \n",
       "75%     161.500000    1.000000   75.700000      NaN   73.000000     NaN   \n",
       "max     215.000000    1.000000   89.400000      NaN   97.700000     NaN   \n",
       "\n",
       "           hsc_s    degree_p   degree_t workex     etest_p specialisation  \\\n",
       "count        215  215.000000        215    215  215.000000            215   \n",
       "unique         3         NaN          3      2         NaN              2   \n",
       "top     Commerce         NaN  Comm&Mgmt     No         NaN        Mkt&Fin   \n",
       "freq         113         NaN        145    141         NaN            120   \n",
       "mean         NaN   66.370186        NaN    NaN   72.100558            NaN   \n",
       "std          NaN    7.358743        NaN    NaN   13.275956            NaN   \n",
       "min          NaN   50.000000        NaN    NaN   50.000000            NaN   \n",
       "25%          NaN   61.000000        NaN    NaN   60.000000            NaN   \n",
       "50%          NaN   66.000000        NaN    NaN   71.000000            NaN   \n",
       "75%          NaN   72.000000        NaN    NaN   83.500000            NaN   \n",
       "max          NaN   91.000000        NaN    NaN   98.000000            NaN   \n",
       "\n",
       "             mba_p  status         salary  \n",
       "count   215.000000     215     148.000000  \n",
       "unique         NaN       2            NaN  \n",
       "top            NaN  Placed            NaN  \n",
       "freq           NaN     148            NaN  \n",
       "mean     62.278186     NaN  288655.405405  \n",
       "std       5.833385     NaN   93457.452420  \n",
       "min      51.210000     NaN  200000.000000  \n",
       "25%      57.945000     NaN  240000.000000  \n",
       "50%      62.000000     NaN  265000.000000  \n",
       "75%      66.255000     NaN  300000.000000  \n",
       "max      77.890000     NaN  940000.000000  "
      ]
     },
     "execution_count": 60,
     "metadata": {},
     "output_type": "execute_result"
    }
   ],
   "source": [
    "train_df.describe(include = 'all')"
   ]
  },
  {
   "cell_type": "code",
   "execution_count": 61,
   "metadata": {},
   "outputs": [
    {
     "data": {
      "text/html": [
       "<div>\n",
       "<style scoped>\n",
       "    .dataframe tbody tr th:only-of-type {\n",
       "        vertical-align: middle;\n",
       "    }\n",
       "\n",
       "    .dataframe tbody tr th {\n",
       "        vertical-align: top;\n",
       "    }\n",
       "\n",
       "    .dataframe thead th {\n",
       "        text-align: right;\n",
       "    }\n",
       "</style>\n",
       "<table border=\"1\" class=\"dataframe\">\n",
       "  <thead>\n",
       "    <tr style=\"text-align: right;\">\n",
       "      <th></th>\n",
       "      <th>sl_no</th>\n",
       "      <th>gender</th>\n",
       "      <th>ssc_p</th>\n",
       "      <th>ssc_b</th>\n",
       "      <th>hsc_p</th>\n",
       "      <th>hsc_b</th>\n",
       "      <th>hsc_s</th>\n",
       "      <th>degree_p</th>\n",
       "      <th>degree_t</th>\n",
       "      <th>workex</th>\n",
       "      <th>etest_p</th>\n",
       "      <th>specialisation</th>\n",
       "      <th>mba_p</th>\n",
       "      <th>status</th>\n",
       "      <th>salary</th>\n",
       "    </tr>\n",
       "  </thead>\n",
       "  <tbody>\n",
       "    <tr>\n",
       "      <th>3</th>\n",
       "      <td>4</td>\n",
       "      <td>0</td>\n",
       "      <td>56.0</td>\n",
       "      <td>Central</td>\n",
       "      <td>52.0</td>\n",
       "      <td>Central</td>\n",
       "      <td>Science</td>\n",
       "      <td>52.00</td>\n",
       "      <td>Sci&amp;Tech</td>\n",
       "      <td>No</td>\n",
       "      <td>66.00</td>\n",
       "      <td>Mkt&amp;HR</td>\n",
       "      <td>59.43</td>\n",
       "      <td>Not Placed</td>\n",
       "      <td>NaN</td>\n",
       "    </tr>\n",
       "    <tr>\n",
       "      <th>5</th>\n",
       "      <td>6</td>\n",
       "      <td>0</td>\n",
       "      <td>55.0</td>\n",
       "      <td>Others</td>\n",
       "      <td>49.8</td>\n",
       "      <td>Others</td>\n",
       "      <td>Science</td>\n",
       "      <td>67.25</td>\n",
       "      <td>Sci&amp;Tech</td>\n",
       "      <td>Yes</td>\n",
       "      <td>55.00</td>\n",
       "      <td>Mkt&amp;Fin</td>\n",
       "      <td>51.58</td>\n",
       "      <td>Not Placed</td>\n",
       "      <td>NaN</td>\n",
       "    </tr>\n",
       "    <tr>\n",
       "      <th>6</th>\n",
       "      <td>7</td>\n",
       "      <td>1</td>\n",
       "      <td>46.0</td>\n",
       "      <td>Others</td>\n",
       "      <td>49.2</td>\n",
       "      <td>Others</td>\n",
       "      <td>Commerce</td>\n",
       "      <td>79.00</td>\n",
       "      <td>Comm&amp;Mgmt</td>\n",
       "      <td>No</td>\n",
       "      <td>74.28</td>\n",
       "      <td>Mkt&amp;Fin</td>\n",
       "      <td>53.29</td>\n",
       "      <td>Not Placed</td>\n",
       "      <td>NaN</td>\n",
       "    </tr>\n",
       "    <tr>\n",
       "      <th>9</th>\n",
       "      <td>10</td>\n",
       "      <td>0</td>\n",
       "      <td>58.0</td>\n",
       "      <td>Central</td>\n",
       "      <td>70.0</td>\n",
       "      <td>Central</td>\n",
       "      <td>Commerce</td>\n",
       "      <td>61.00</td>\n",
       "      <td>Comm&amp;Mgmt</td>\n",
       "      <td>No</td>\n",
       "      <td>54.00</td>\n",
       "      <td>Mkt&amp;Fin</td>\n",
       "      <td>52.21</td>\n",
       "      <td>Not Placed</td>\n",
       "      <td>NaN</td>\n",
       "    </tr>\n",
       "    <tr>\n",
       "      <th>12</th>\n",
       "      <td>13</td>\n",
       "      <td>1</td>\n",
       "      <td>47.0</td>\n",
       "      <td>Central</td>\n",
       "      <td>55.0</td>\n",
       "      <td>Others</td>\n",
       "      <td>Science</td>\n",
       "      <td>65.00</td>\n",
       "      <td>Comm&amp;Mgmt</td>\n",
       "      <td>No</td>\n",
       "      <td>62.00</td>\n",
       "      <td>Mkt&amp;HR</td>\n",
       "      <td>65.04</td>\n",
       "      <td>Not Placed</td>\n",
       "      <td>NaN</td>\n",
       "    </tr>\n",
       "    <tr>\n",
       "      <th>...</th>\n",
       "      <td>...</td>\n",
       "      <td>...</td>\n",
       "      <td>...</td>\n",
       "      <td>...</td>\n",
       "      <td>...</td>\n",
       "      <td>...</td>\n",
       "      <td>...</td>\n",
       "      <td>...</td>\n",
       "      <td>...</td>\n",
       "      <td>...</td>\n",
       "      <td>...</td>\n",
       "      <td>...</td>\n",
       "      <td>...</td>\n",
       "      <td>...</td>\n",
       "      <td>...</td>\n",
       "    </tr>\n",
       "    <tr>\n",
       "      <th>198</th>\n",
       "      <td>199</td>\n",
       "      <td>1</td>\n",
       "      <td>67.0</td>\n",
       "      <td>Central</td>\n",
       "      <td>70.0</td>\n",
       "      <td>Central</td>\n",
       "      <td>Commerce</td>\n",
       "      <td>65.00</td>\n",
       "      <td>Others</td>\n",
       "      <td>No</td>\n",
       "      <td>88.00</td>\n",
       "      <td>Mkt&amp;HR</td>\n",
       "      <td>71.96</td>\n",
       "      <td>Not Placed</td>\n",
       "      <td>NaN</td>\n",
       "    </tr>\n",
       "    <tr>\n",
       "      <th>201</th>\n",
       "      <td>202</td>\n",
       "      <td>0</td>\n",
       "      <td>54.2</td>\n",
       "      <td>Central</td>\n",
       "      <td>63.0</td>\n",
       "      <td>Others</td>\n",
       "      <td>Science</td>\n",
       "      <td>58.00</td>\n",
       "      <td>Comm&amp;Mgmt</td>\n",
       "      <td>No</td>\n",
       "      <td>79.00</td>\n",
       "      <td>Mkt&amp;HR</td>\n",
       "      <td>58.44</td>\n",
       "      <td>Not Placed</td>\n",
       "      <td>NaN</td>\n",
       "    </tr>\n",
       "    <tr>\n",
       "      <th>206</th>\n",
       "      <td>207</td>\n",
       "      <td>0</td>\n",
       "      <td>41.0</td>\n",
       "      <td>Central</td>\n",
       "      <td>42.0</td>\n",
       "      <td>Central</td>\n",
       "      <td>Science</td>\n",
       "      <td>60.00</td>\n",
       "      <td>Comm&amp;Mgmt</td>\n",
       "      <td>No</td>\n",
       "      <td>97.00</td>\n",
       "      <td>Mkt&amp;Fin</td>\n",
       "      <td>53.39</td>\n",
       "      <td>Not Placed</td>\n",
       "      <td>NaN</td>\n",
       "    </tr>\n",
       "    <tr>\n",
       "      <th>208</th>\n",
       "      <td>209</td>\n",
       "      <td>1</td>\n",
       "      <td>43.0</td>\n",
       "      <td>Central</td>\n",
       "      <td>60.0</td>\n",
       "      <td>Others</td>\n",
       "      <td>Science</td>\n",
       "      <td>65.00</td>\n",
       "      <td>Comm&amp;Mgmt</td>\n",
       "      <td>No</td>\n",
       "      <td>92.66</td>\n",
       "      <td>Mkt&amp;HR</td>\n",
       "      <td>62.92</td>\n",
       "      <td>Not Placed</td>\n",
       "      <td>NaN</td>\n",
       "    </tr>\n",
       "    <tr>\n",
       "      <th>214</th>\n",
       "      <td>215</td>\n",
       "      <td>0</td>\n",
       "      <td>62.0</td>\n",
       "      <td>Central</td>\n",
       "      <td>58.0</td>\n",
       "      <td>Others</td>\n",
       "      <td>Science</td>\n",
       "      <td>53.00</td>\n",
       "      <td>Comm&amp;Mgmt</td>\n",
       "      <td>No</td>\n",
       "      <td>89.00</td>\n",
       "      <td>Mkt&amp;HR</td>\n",
       "      <td>60.22</td>\n",
       "      <td>Not Placed</td>\n",
       "      <td>NaN</td>\n",
       "    </tr>\n",
       "  </tbody>\n",
       "</table>\n",
       "<p>67 rows × 15 columns</p>\n",
       "</div>"
      ],
      "text/plain": [
       "     sl_no  gender  ssc_p    ssc_b  hsc_p    hsc_b     hsc_s  degree_p  \\\n",
       "3        4       0   56.0  Central   52.0  Central   Science     52.00   \n",
       "5        6       0   55.0   Others   49.8   Others   Science     67.25   \n",
       "6        7       1   46.0   Others   49.2   Others  Commerce     79.00   \n",
       "9       10       0   58.0  Central   70.0  Central  Commerce     61.00   \n",
       "12      13       1   47.0  Central   55.0   Others   Science     65.00   \n",
       "..     ...     ...    ...      ...    ...      ...       ...       ...   \n",
       "198    199       1   67.0  Central   70.0  Central  Commerce     65.00   \n",
       "201    202       0   54.2  Central   63.0   Others   Science     58.00   \n",
       "206    207       0   41.0  Central   42.0  Central   Science     60.00   \n",
       "208    209       1   43.0  Central   60.0   Others   Science     65.00   \n",
       "214    215       0   62.0  Central   58.0   Others   Science     53.00   \n",
       "\n",
       "      degree_t workex  etest_p specialisation  mba_p      status  salary  \n",
       "3     Sci&Tech     No    66.00         Mkt&HR  59.43  Not Placed     NaN  \n",
       "5     Sci&Tech    Yes    55.00        Mkt&Fin  51.58  Not Placed     NaN  \n",
       "6    Comm&Mgmt     No    74.28        Mkt&Fin  53.29  Not Placed     NaN  \n",
       "9    Comm&Mgmt     No    54.00        Mkt&Fin  52.21  Not Placed     NaN  \n",
       "12   Comm&Mgmt     No    62.00         Mkt&HR  65.04  Not Placed     NaN  \n",
       "..         ...    ...      ...            ...    ...         ...     ...  \n",
       "198     Others     No    88.00         Mkt&HR  71.96  Not Placed     NaN  \n",
       "201  Comm&Mgmt     No    79.00         Mkt&HR  58.44  Not Placed     NaN  \n",
       "206  Comm&Mgmt     No    97.00        Mkt&Fin  53.39  Not Placed     NaN  \n",
       "208  Comm&Mgmt     No    92.66         Mkt&HR  62.92  Not Placed     NaN  \n",
       "214  Comm&Mgmt     No    89.00         Mkt&HR  60.22  Not Placed     NaN  \n",
       "\n",
       "[67 rows x 15 columns]"
      ]
     },
     "execution_count": 61,
     "metadata": {},
     "output_type": "execute_result"
    }
   ],
   "source": [
    "train_df[train_df['salary'].isnull()]"
   ]
  },
  {
   "cell_type": "code",
   "execution_count": 62,
   "metadata": {},
   "outputs": [
    {
     "data": {
      "text/plain": [
       "sl_no              0\n",
       "gender             0\n",
       "ssc_p              0\n",
       "ssc_b              0\n",
       "hsc_p              0\n",
       "hsc_b              0\n",
       "hsc_s              0\n",
       "degree_p           0\n",
       "degree_t           0\n",
       "workex             0\n",
       "etest_p            0\n",
       "specialisation     0\n",
       "mba_p              0\n",
       "status             0\n",
       "salary            67\n",
       "dtype: int64"
      ]
     },
     "execution_count": 62,
     "metadata": {},
     "output_type": "execute_result"
    }
   ],
   "source": [
    "train_df.isnull().sum()"
   ]
  },
  {
   "cell_type": "code",
   "execution_count": 63,
   "metadata": {},
   "outputs": [
    {
     "data": {
      "text/plain": [
       "salary\n",
       "True    67\n",
       "Name: count, dtype: int64"
      ]
     },
     "execution_count": 63,
     "metadata": {},
     "output_type": "execute_result"
    }
   ],
   "source": [
    "# Check if all the students who are not placed have salary as null\n",
    "train_df[train_df['status'] == 'Not Placed']['salary'].isnull().value_counts()"
   ]
  },
  {
   "cell_type": "markdown",
   "metadata": {},
   "source": [
    "Handling Missing Values: The salary column has many missing values since it only applies to students who were placed. For this prediction, missing values in salary were not imputed since the focus was on predicting placement status."
   ]
  },
  {
   "cell_type": "markdown",
   "metadata": {},
   "source": [
    "### Explanatory Data Analysis"
   ]
  },
  {
   "cell_type": "code",
   "execution_count": 64,
   "metadata": {},
   "outputs": [
    {
     "data": {
      "image/png": "[encoded data removed]",
      "text/plain": [
       "<Figure size 432x288 with 1 Axes>"
      ]
     },
     "metadata": {
      "needs_background": "light"
     },
     "output_type": "display_data"
    },
    {
     "data": {
      "image/png": "[encoded data removed]",
      "text/plain": [
       "<Figure size 432x288 with 1 Axes>"
      ]
     },
     "metadata": {
      "needs_background": "light"
     },
     "output_type": "display_data"
    },
    {
     "data": {
      "image/png": "[encoded data removed]",
      "text/plain": [
       "<Figure size 432x288 with 1 Axes>"
      ]
     },
     "metadata": {
      "needs_background": "light"
     },
     "output_type": "display_data"
    },
    {
     "data": {
      "image/png": "[encoded data removed]",
      "text/plain": [
       "<Figure size 432x288 with 1 Axes>"
      ]
     },
     "metadata": {
      "needs_background": "light"
     },
     "output_type": "display_data"
    },
    {
     "data": {
      "image/png": "[encoded data removed]",
      "text/plain": [
       "<Figure size 432x288 with 1 Axes>"
      ]
     },
     "metadata": {
      "needs_background": "light"
     },
     "output_type": "display_data"
    }
   ],
   "source": [
    "import seaborn as sns\n",
    "import matplotlib.pyplot as plt\n",
    "\n",
    "# Distribution plots for numerical columns\n",
    "numerical_cols = ['ssc_p', 'hsc_p', 'degree_p', 'etest_p', 'mba_p']\n",
    "for col in numerical_cols:\n",
    "    sns.histplot(train_df[col], kde=True)\n",
    "    plt.title(f'Distribution of {col}')\n",
    "    plt.show()"
   ]
  },
  {
   "cell_type": "markdown",
   "metadata": {},
   "source": [
    "Insights:\n",
    "\n",
    "The entrance test (etest_p) seems to differentiate candidates more widely than other assessments.\n",
    "Undergraduate performance (degree_p) appears more standardized, with a narrow, peaked distribution.\n",
    "There's a general trend of right-skewness across most metrics, suggesting it's harder to achieve very high scores.\n",
    "MBA performance (mba_p) shows a tighter distribution, possibly indicating more consistent grading or performance at this level.\n",
    "\n",
    "These observations could be valuable for understanding academic performance patterns, identifying potential areas for intervention or support, and informing admissions or evaluation criteria. "
   ]
  },
  {
   "cell_type": "code",
   "execution_count": 65,
   "metadata": {},
   "outputs": [
    {
     "data": {
      "image/png": "[encoded data removed]",
      "text/plain": [
       "<Figure size 432x288 with 1 Axes>"
      ]
     },
     "metadata": {
      "needs_background": "light"
     },
     "output_type": "display_data"
    },
    {
     "data": {
      "image/png": "[encoded data removed]",
      "text/plain": [
       "<Figure size 432x288 with 1 Axes>"
      ]
     },
     "metadata": {
      "needs_background": "light"
     },
     "output_type": "display_data"
    },
    {
     "data": {
      "image/png": "[encoded data removed]",
      "text/plain": [
       "<Figure size 432x288 with 1 Axes>"
      ]
     },
     "metadata": {
      "needs_background": "light"
     },
     "output_type": "display_data"
    },
    {
     "data": {
      "image/png": "[encoded data removed]",
      "text/plain": [
       "<Figure size 432x288 with 1 Axes>"
      ]
     },
     "metadata": {
      "needs_background": "light"
     },
     "output_type": "display_data"
    },
    {
     "data": {
      "image/png": "[encoded data removed]",
      "text/plain": [
       "<Figure size 432x288 with 1 Axes>"
      ]
     },
     "metadata": {
      "needs_background": "light"
     },
     "output_type": "display_data"
    },
    {
     "data": {
      "image/png": "[encoded data removed]",
      "text/plain": [
       "<Figure size 432x288 with 1 Axes>"
      ]
     },
     "metadata": {
      "needs_background": "light"
     },
     "output_type": "display_data"
    },
    {
     "data": {
      "image/png": "[encoded data removed]",
      "text/plain": [
       "<Figure size 432x288 with 1 Axes>"
      ]
     },
     "metadata": {
      "needs_background": "light"
     },
     "output_type": "display_data"
    },
    {
     "data": {
      "image/png": "[encoded data removed]",
      "text/plain": [
       "<Figure size 432x288 with 1 Axes>"
      ]
     },
     "metadata": {
      "needs_background": "light"
     },
     "output_type": "display_data"
    }
   ],
   "source": [
    "# Count plots for categorical columns\n",
    "categorical_cols = ['gender', 'ssc_b', 'hsc_b', 'hsc_s', 'degree_t', 'workex', 'specialisation', 'status']\n",
    "for col in categorical_cols:\n",
    "    sns.countplot(x=col, data=train_df)\n",
    "    plt.title(f'Count plot of {col}')\n",
    "    plt.show()"
   ]
  },
  {
   "cell_type": "code",
   "execution_count": 66,
   "metadata": {},
   "outputs": [
    {
     "data": {
      "image/png": "[encoded data removed]",
      "text/plain": [
       "<Figure size 432x288 with 1 Axes>"
      ]
     },
     "metadata": {
      "needs_background": "light"
     },
     "output_type": "display_data"
    },
    {
     "data": {
      "image/png": "[encoded data removed]",
      "text/plain": [
       "<Figure size 432x288 with 1 Axes>"
      ]
     },
     "metadata": {
      "needs_background": "light"
     },
     "output_type": "display_data"
    },
    {
     "data": {
      "image/png": "[encoded data removed]",
      "text/plain": [
       "<Figure size 432x288 with 1 Axes>"
      ]
     },
     "metadata": {
      "needs_background": "light"
     },
     "output_type": "display_data"
    },
    {
     "data": {
      "image/png": "[encoded data removed]",
      "text/plain": [
       "<Figure size 432x288 with 1 Axes>"
      ]
     },
     "metadata": {
      "needs_background": "light"
     },
     "output_type": "display_data"
    },
    {
     "data": {
      "image/png": "[encoded data removed]",
      "text/plain": [
       "<Figure size 432x288 with 1 Axes>"
      ]
     },
     "metadata": {
      "needs_background": "light"
     },
     "output_type": "display_data"
    },
    {
     "data": {
      "image/png": "[encoded data removed]",
      "text/plain": [
       "<Figure size 432x288 with 1 Axes>"
      ]
     },
     "metadata": {
      "needs_background": "light"
     },
     "output_type": "display_data"
    }
   ],
   "source": [
    "# Box plots for numerical columns grouped by categorical columns\n",
    "for col in numerical_cols:\n",
    "    sns.boxplot(x='status', y=col, data=train_df)\n",
    "    plt.title(f'{col} by Status')\n",
    "    plt.show()\n",
    "\n",
    "# Box plot of ssc_p by gender\n",
    "sns.boxplot(x='gender', y='ssc_p', data=train_df)\n",
    "plt.title('SSC Percentage by Gender')\n",
    "plt.show()"
   ]
  },
  {
   "cell_type": "markdown",
   "metadata": {},
   "source": [
    "For both HSC (Higher Secondary Certificate) and degree percentages, students who were placed tend to have higher scores compared to those who were not placed. The median and interquartile range for placed students are noticeably higher in both cases. This suggests that stronger academic performance in high school (HSC) and during the degree program may contribute to better job placement outcomes. However, there is still some overlap in the distributions, indicating that while higher scores are generally associated with better placement chances, they don't guarantee placement, and lower scores don't necessarily preclude it. The difference seems more pronounced for degree percentages than for HSC scores, potentially indicating that recent academic performance (degree) may have a stronger influence on placement than earlier education (HSC)."
   ]
  },
  {
   "cell_type": "code",
   "execution_count": 100,
   "metadata": {},
   "outputs": [
    {
     "data": {
      "image/png": "[encoded data removed]",
      "text/plain": [
       "<Figure size 720x576 with 2 Axes>"
      ]
     },
     "metadata": {
      "needs_background": "light"
     },
     "output_type": "display_data"
    }
   ],
   "source": [
    "# Calculate the correlation matrix\n",
    "correlation_matrix = train_df[numerical_cols].corr()\n",
    "\n",
    "# Create a heatmap of the correlation matrix\n",
    "plt.figure(figsize=(10, 8))\n",
    "sns.heatmap(correlation_matrix, annot=True, cmap='coolwarm')\n",
    "plt.title('Correlation Plot')\n",
    "plt.show()"
   ]
  },
  {
   "cell_type": "markdown",
   "metadata": {},
   "source": [
    " The strongest correlations appear to be among ssc_p, hsc_p, and degree_p, suggesting a relationship between these academic performance measures. The etest_p variable shows the weakest correlations with other variables.\n",
    "\n",
    " We can remove ssc_p column to prevent multicollinearity."
   ]
  },
  {
   "cell_type": "code",
   "execution_count": 102,
   "metadata": {},
   "outputs": [],
   "source": [
    "train_df.drop(['ssc_p'], inplace=True, axis=1)"
   ]
  },
  {
   "cell_type": "markdown",
   "metadata": {},
   "source": [
    "### Encoding Categorical Variables"
   ]
  },
  {
   "cell_type": "code",
   "execution_count": 67,
   "metadata": {},
   "outputs": [],
   "source": [
    "from sklearn.model_selection import train_test_split\n",
    "\n",
    "X = train_df.drop(['salary', 'status'], axis=1)\n",
    "y = train_df['status']\n",
    "\n",
    "X_train, X_test, y_train, y_test = train_test_split(X, y, test_size=0.2, random_state=42)"
   ]
  },
  {
   "cell_type": "code",
   "execution_count": 68,
   "metadata": {},
   "outputs": [
    {
     "data": {
      "text/plain": [
       "['gender',\n",
       " 'ssc_b',\n",
       " 'hsc_b',\n",
       " 'hsc_s',\n",
       " 'degree_t',\n",
       " 'workex',\n",
       " 'specialisation',\n",
       " 'status']"
      ]
     },
     "execution_count": 68,
     "metadata": {},
     "output_type": "execute_result"
    }
   ],
   "source": [
    "categorical_cols"
   ]
  },
  {
   "cell_type": "code",
   "execution_count": 69,
   "metadata": {},
   "outputs": [
    {
     "data": {
      "text/plain": [
       "['gender', 'ssc_b', 'hsc_b', 'hsc_s', 'degree_t', 'workex', 'specialisation']"
      ]
     },
     "execution_count": 69,
     "metadata": {},
     "output_type": "execute_result"
    }
   ],
   "source": [
    "X_categorical_cols = categorical_cols[:-1]\n",
    "X_categorical_cols"
   ]
  },
  {
   "cell_type": "code",
   "execution_count": 70,
   "metadata": {},
   "outputs": [],
   "source": [
    "from sklearn.preprocessing import LabelEncoder\n",
    "\n",
    "encoder = LabelEncoder()\n",
    "for col in X_categorical_cols:\n",
    "    X_train[col] = encoder.fit_transform(X_train[col])\n",
    "    X_test[col] = encoder.transform(X_test[col])\n",
    "\n",
    "# Encode status with not placed = 0 and placed = 1\n",
    "y_train = y_train.map({'Not Placed': 0, 'Placed': 1})\n",
    "y_test = y_test.map({'Not Placed': 0, 'Placed': 1})"
   ]
  },
  {
   "cell_type": "markdown",
   "metadata": {},
   "source": [
    "### Standard Scaling"
   ]
  },
  {
   "cell_type": "code",
   "execution_count": 71,
   "metadata": {},
   "outputs": [
    {
     "data": {
      "text/html": [
       "<div>\n",
       "<style scoped>\n",
       "    .dataframe tbody tr th:only-of-type {\n",
       "        vertical-align: middle;\n",
       "    }\n",
       "\n",
       "    .dataframe tbody tr th {\n",
       "        vertical-align: top;\n",
       "    }\n",
       "\n",
       "    .dataframe thead th {\n",
       "        text-align: right;\n",
       "    }\n",
       "</style>\n",
       "<table border=\"1\" class=\"dataframe\">\n",
       "  <thead>\n",
       "    <tr style=\"text-align: right;\">\n",
       "      <th></th>\n",
       "      <th>ssc_p</th>\n",
       "      <th>hsc_p</th>\n",
       "      <th>degree_p</th>\n",
       "      <th>etest_p</th>\n",
       "      <th>mba_p</th>\n",
       "      <th>gender</th>\n",
       "      <th>ssc_b</th>\n",
       "      <th>hsc_b</th>\n",
       "      <th>hsc_s</th>\n",
       "      <th>degree_t</th>\n",
       "      <th>workex</th>\n",
       "      <th>specialisation</th>\n",
       "    </tr>\n",
       "  </thead>\n",
       "  <tbody>\n",
       "    <tr>\n",
       "      <th>93</th>\n",
       "      <td>-1.394730</td>\n",
       "      <td>-0.354257</td>\n",
       "      <td>-1.601854</td>\n",
       "      <td>-0.051326</td>\n",
       "      <td>-1.151702</td>\n",
       "      <td>0</td>\n",
       "      <td>0</td>\n",
       "      <td>0</td>\n",
       "      <td>1</td>\n",
       "      <td>0</td>\n",
       "      <td>0</td>\n",
       "      <td>1</td>\n",
       "    </tr>\n",
       "    <tr>\n",
       "      <th>84</th>\n",
       "      <td>0.262928</td>\n",
       "      <td>-0.266971</td>\n",
       "      <td>0.517889</td>\n",
       "      <td>-1.326412</td>\n",
       "      <td>-0.038470</td>\n",
       "      <td>0</td>\n",
       "      <td>0</td>\n",
       "      <td>1</td>\n",
       "      <td>2</td>\n",
       "      <td>2</td>\n",
       "      <td>1</td>\n",
       "      <td>0</td>\n",
       "    </tr>\n",
       "    <tr>\n",
       "      <th>95</th>\n",
       "      <td>0.539205</td>\n",
       "      <td>1.042309</td>\n",
       "      <td>-0.144531</td>\n",
       "      <td>1.708292</td>\n",
       "      <td>-0.011442</td>\n",
       "      <td>0</td>\n",
       "      <td>0</td>\n",
       "      <td>1</td>\n",
       "      <td>1</td>\n",
       "      <td>0</td>\n",
       "      <td>1</td>\n",
       "      <td>0</td>\n",
       "    </tr>\n",
       "    <tr>\n",
       "      <th>137</th>\n",
       "      <td>-0.013348</td>\n",
       "      <td>-0.266971</td>\n",
       "      <td>0.782857</td>\n",
       "      <td>-1.251407</td>\n",
       "      <td>-0.307065</td>\n",
       "      <td>0</td>\n",
       "      <td>1</td>\n",
       "      <td>0</td>\n",
       "      <td>1</td>\n",
       "      <td>0</td>\n",
       "      <td>0</td>\n",
       "      <td>1</td>\n",
       "    </tr>\n",
       "    <tr>\n",
       "      <th>210</th>\n",
       "      <td>1.239105</td>\n",
       "      <td>1.391451</td>\n",
       "      <td>1.524767</td>\n",
       "      <td>1.373770</td>\n",
       "      <td>2.071433</td>\n",
       "      <td>0</td>\n",
       "      <td>1</td>\n",
       "      <td>1</td>\n",
       "      <td>1</td>\n",
       "      <td>0</td>\n",
       "      <td>0</td>\n",
       "      <td>0</td>\n",
       "    </tr>\n",
       "  </tbody>\n",
       "</table>\n",
       "</div>"
      ],
      "text/plain": [
       "        ssc_p     hsc_p  degree_p   etest_p     mba_p  gender  ssc_b  hsc_b  \\\n",
       "93  -1.394730 -0.354257 -1.601854 -0.051326 -1.151702       0      0      0   \n",
       "84   0.262928 -0.266971  0.517889 -1.326412 -0.038470       0      0      1   \n",
       "95   0.539205  1.042309 -0.144531  1.708292 -0.011442       0      0      1   \n",
       "137 -0.013348 -0.266971  0.782857 -1.251407 -0.307065       0      1      0   \n",
       "210  1.239105  1.391451  1.524767  1.373770  2.071433       0      1      1   \n",
       "\n",
       "     hsc_s  degree_t  workex  specialisation  \n",
       "93       1         0       0               1  \n",
       "84       2         2       1               0  \n",
       "95       1         0       1               0  \n",
       "137      1         0       0               1  \n",
       "210      1         0       0               0  "
      ]
     },
     "execution_count": 71,
     "metadata": {},
     "output_type": "execute_result"
    }
   ],
   "source": [
    "from sklearn.preprocessing import StandardScaler\n",
    "\n",
    "scaler = StandardScaler()\n",
    "X_train_scaled = scaler.fit_transform(X_train[numerical_cols])\n",
    "X_test_scaled = scaler.transform(X_test[numerical_cols])\n",
    "# Convert scaled arrays back to DataFrames\n",
    "X_train_scaled = pd.DataFrame(X_train_scaled, columns=numerical_cols, index=X_train.index)\n",
    "X_test_scaled = pd.DataFrame(X_test_scaled, columns=numerical_cols, index=X_test.index)\n",
    "    \n",
    "# Combine scaled numerical features with categorical features\n",
    "categorical_cols = [col for col in categorical_cols if col != 'status']\n",
    "X_train_scaled = pd.concat([X_train_scaled, X_train[categorical_cols]], axis=1)\n",
    "X_test_scaled = pd.concat([X_test_scaled, X_test[categorical_cols]], axis=1)    \n",
    "# Ensure the columns are in the same order: numerical columns first, then categorical\n",
    "column_order = numerical_cols + categorical_cols\n",
    "X_train_scaled = X_train_scaled[column_order]\n",
    "X_test_preprocessed = X_test_scaled[column_order] \n",
    "X_train_scaled.head()"
   ]
  },
  {
   "cell_type": "code",
   "execution_count": 72,
   "metadata": {},
   "outputs": [],
   "source": [
    "# Dropping the sl_no column because it is not useful\n",
    "X_train.drop('sl_no', axis=1, inplace=True)\n",
    "X_test.drop('sl_no', axis=1, inplace=True)"
   ]
  },
  {
   "cell_type": "markdown",
   "metadata": {},
   "source": [
    "### Model Selection and Evaluation"
   ]
  },
  {
   "cell_type": "markdown",
   "metadata": {},
   "source": [
    "##### Evaluation Metrics:\n",
    "1.\tAccuracy: The ratio of correctly predicted instances to the total instances.\n",
    "2.\tPrecision: The ratio of true positive predictions to the total positive predictions.\n",
    "3.\tRecall: The ratio of true positive predictions to the actual positive instances.\n",
    "4.\tF1 Score: The harmonic mean of precision and recall, providing a single metric that balances both.\n",
    "5.\tROC AUC Score: The area under the Receiver Operating Characteristic curve, which evaluates the ability of the model to distinguish between the positive and negative classes.\n"
   ]
  },
  {
   "cell_type": "markdown",
   "metadata": {},
   "source": [
    "#### Logistic Regression \n",
    "\n",
    "1) Appropriate for binary classification (placed vs. not placed)\n",
    "2) Provides interpretable results, showing the impact of each feature on placement probability\n",
    "3) Works well with linear relationships between features and outcome\n",
    "4) Relatively simple and computationally efficient\n",
    "5) Good for understanding feature importance and odds ratios"
   ]
  },
  {
   "cell_type": "code",
   "execution_count": 73,
   "metadata": {},
   "outputs": [],
   "source": [
    "from sklearn.linear_model import LogisticRegression\n",
    "\n",
    "log_reg = LogisticRegression()\n",
    "log_reg.fit(X_train_scaled, y_train)\n",
    "\n",
    "y_pred = log_reg.predict(X_test_scaled)"
   ]
  },
  {
   "cell_type": "code",
   "execution_count": 74,
   "metadata": {},
   "outputs": [
    {
     "name": "stdout",
     "output_type": "stream",
     "text": [
      "Accuracy: 0.8837209302325582\n",
      "Precision: 0.90625\n",
      "Recall: 0.9354838709677419\n",
      "f1_score: 0.9206349206349206\n"
     ]
    }
   ],
   "source": [
    "from sklearn.metrics import accuracy_score, precision_score, recall_score, f1_score\n",
    "\n",
    "print(f'Accuracy: {accuracy_score(y_test, y_pred)}')\n",
    "print(f'Precision: {precision_score(y_test, y_pred)}')\n",
    "print(f'Recall: {recall_score(y_test, y_pred)}')\n",
    "print(f'f1_score: {f1_score(y_test, y_pred)}')"
   ]
  },
  {
   "cell_type": "markdown",
   "metadata": {},
   "source": [
    "##### Hyperparameter Tuning for Logistic Regression"
   ]
  },
  {
   "cell_type": "code",
   "execution_count": 75,
   "metadata": {},
   "outputs": [
    {
     "name": "stdout",
     "output_type": "stream",
     "text": [
      "Best Parameters: {'C': 0.65}\n",
      "Best Score: 0.9360013175230566\n"
     ]
    }
   ],
   "source": [
    "from sklearn.model_selection import GridSearchCV\n",
    "\n",
    "# Define the parameter grid\n",
    "param_grid = {\n",
    "    'C': [0.5, 0.6, 0.65, 0.75, 1]\n",
    "}\n",
    "\n",
    "# Create the logistic regression model\n",
    "log_reg = LogisticRegression()\n",
    "\n",
    "# Create the GridSearchCV object\n",
    "grid_search = GridSearchCV(log_reg, param_grid, cv=5, scoring='roc_auc')\n",
    "\n",
    "# Fit the GridSearchCV object to the training data\n",
    "grid_search.fit(X_train_scaled, y_train)\n",
    "\n",
    "# Get the best parameters and best score\n",
    "best_params_lr = grid_search.best_params_\n",
    "best_score = grid_search.best_score_\n",
    "\n",
    "# Print the best parameters and best score\n",
    "print(\"Best Parameters:\", best_params_lr)\n",
    "print(\"Best Score:\", best_score)"
   ]
  },
  {
   "cell_type": "code",
   "execution_count": 76,
   "metadata": {},
   "outputs": [],
   "source": [
    "log_reg = LogisticRegression(**best_params_lr)\n",
    "log_reg.fit(X_train_scaled, y_train)\n",
    "\n",
    "y_pred_lr = log_reg.predict(X_test_scaled)"
   ]
  },
  {
   "cell_type": "code",
   "execution_count": 77,
   "metadata": {},
   "outputs": [
    {
     "name": "stdout",
     "output_type": "stream",
     "text": [
      "Accuracy: 0.8837209302325582\n",
      "Precision: 0.90625\n",
      "Recall: 0.9354838709677419\n",
      "f1_score: 0.9206349206349206\n",
      "ROC AUC Score: 0.842741935483871\n"
     ]
    }
   ],
   "source": [
    "from sklearn.metrics import accuracy_score, precision_score, recall_score, f1_score, roc_auc_score\n",
    "\n",
    "print(f'Accuracy: {accuracy_score(y_test, y_pred_lr)}')\n",
    "print(f'Precision: {precision_score(y_test, y_pred_lr)}')\n",
    "print(f'Recall: {recall_score(y_test, y_pred_lr)}')\n",
    "print(f'f1_score: {f1_score(y_test, y_pred_lr)}')\n",
    "print(f'ROC AUC Score: {roc_auc_score(y_test, y_pred_lr)}')"
   ]
  },
  {
   "cell_type": "markdown",
   "metadata": {},
   "source": [
    "#### Random Forest\n",
    "\n",
    "1) Can capture non-linear relationships in the data\n",
    "2) Handles both numerical and categorical variables well\n",
    "3) Resistant to overfitting due to ensemble nature\n",
    "4) Provides feature importance rankings\n",
    "5) Can handle interactions between features automatically"
   ]
  },
  {
   "cell_type": "code",
   "execution_count": 78,
   "metadata": {},
   "outputs": [],
   "source": [
    "from sklearn.ensemble import RandomForestClassifier\n",
    "\n",
    "rf = RandomForestClassifier()\n",
    "rf.fit(X_train, y_train)\n",
    "\n",
    "y_pred = rf.predict(X_test)"
   ]
  },
  {
   "cell_type": "code",
   "execution_count": 79,
   "metadata": {},
   "outputs": [
    {
     "name": "stdout",
     "output_type": "stream",
     "text": [
      "Accuracy: 0.7906976744186046\n",
      "Precision: 0.8055555555555556\n",
      "Recall: 0.9354838709677419\n",
      "f1_score: 0.8656716417910447\n"
     ]
    }
   ],
   "source": [
    "from sklearn.metrics import accuracy_score, precision_score, recall_score, f1_score\n",
    "\n",
    "print(f'Accuracy: {accuracy_score(y_test, y_pred)}')\n",
    "print(f'Precision: {precision_score(y_test, y_pred)}')\n",
    "print(f'Recall: {recall_score(y_test, y_pred)}')\n",
    "print(f'f1_score: {f1_score(y_test, y_pred)}')"
   ]
  },
  {
   "cell_type": "markdown",
   "metadata": {},
   "source": [
    "##### Hyperparameter Tuning for Random Forest"
   ]
  },
  {
   "cell_type": "code",
   "execution_count": 80,
   "metadata": {},
   "outputs": [
    {
     "name": "stdout",
     "output_type": "stream",
     "text": [
      "Best Parameters: {'max_depth': None, 'min_samples_split': 5, 'n_estimators': 200}\n",
      "Best Score: 0.9228260869565219\n"
     ]
    }
   ],
   "source": [
    "from sklearn.ensemble import RandomForestClassifier\n",
    "\n",
    "# Define the parameter grid\n",
    "param_grid = {\n",
    "    'n_estimators': [50, 100, 200, 300, 500],\n",
    "    'max_depth': [None, 20, 30, 50, 100],\n",
    "    'min_samples_split': [2, 5, 10]\n",
    "}\n",
    "\n",
    "# Create the random forest classifier model\n",
    "rf = RandomForestClassifier()\n",
    "\n",
    "# Create the GridSearchCV object\n",
    "grid_search = GridSearchCV(rf, param_grid, cv=5, scoring='roc_auc')\n",
    "\n",
    "# Fit the GridSearchCV object to the training data\n",
    "grid_search.fit(X_train, y_train)\n",
    "\n",
    "# Get the best parameters and best score\n",
    "best_params_rf = grid_search.best_params_\n",
    "best_score = grid_search.best_score_\n",
    "\n",
    "# Print the best parameters and best score\n",
    "print(\"Best Parameters:\", best_params_rf)\n",
    "print(\"Best Score:\", best_score)"
   ]
  },
  {
   "cell_type": "code",
   "execution_count": 81,
   "metadata": {},
   "outputs": [],
   "source": [
    "rf = RandomForestClassifier(**best_params_rf)\n",
    "rf.fit(X_train, y_train)\n",
    "\n",
    "y_pred_rf = rf.predict(X_test)"
   ]
  },
  {
   "cell_type": "code",
   "execution_count": 82,
   "metadata": {},
   "outputs": [
    {
     "name": "stdout",
     "output_type": "stream",
     "text": [
      "Accuracy: 0.7906976744186046\n",
      "Precision: 0.8055555555555556\n",
      "Recall: 0.9354838709677419\n",
      "f1_score: 0.8656716417910447\n",
      "ROC AUC Score: 0.6760752688172043\n"
     ]
    }
   ],
   "source": [
    "from sklearn.metrics import accuracy_score, precision_score, recall_score, f1_score, roc_auc_score\n",
    "\n",
    "print(f'Accuracy: {accuracy_score(y_test, y_pred_rf)}')\n",
    "print(f'Precision: {precision_score(y_test, y_pred_rf)}')\n",
    "print(f'Recall: {recall_score(y_test, y_pred_rf)}')\n",
    "print(f'f1_score: {f1_score(y_test, y_pred_rf)}')\n",
    "print(f'ROC AUC Score: {roc_auc_score(y_test, y_pred_rf)}')"
   ]
  },
  {
   "cell_type": "markdown",
   "metadata": {},
   "source": [
    "#### SVM\n",
    "\n",
    "1) Effective in high-dimensional spaces\n",
    "2) Versatile due to choice of kernel functions (linear, polynomial, RBF)\n",
    "3) Works well when there's a clear margin of separation\n",
    "4) Good at handling complex decision boundaries"
   ]
  },
  {
   "cell_type": "code",
   "execution_count": 83,
   "metadata": {},
   "outputs": [],
   "source": [
    "from sklearn.svm import SVC\n",
    "\n",
    "svc = SVC()\n",
    "svc.fit(X_train_scaled, y_train)\n",
    "\n",
    "y_pred = svc.predict(X_test_scaled)"
   ]
  },
  {
   "cell_type": "code",
   "execution_count": 84,
   "metadata": {},
   "outputs": [
    {
     "name": "stdout",
     "output_type": "stream",
     "text": [
      "Accuracy: 0.813953488372093\n",
      "Precision: 0.8285714285714286\n",
      "Recall: 0.9354838709677419\n",
      "f1_score: 0.8787878787878788\n"
     ]
    }
   ],
   "source": [
    "from sklearn.metrics import accuracy_score, precision_score, recall_score, f1_score\n",
    "\n",
    "print(f'Accuracy: {accuracy_score(y_test, y_pred)}')\n",
    "print(f'Precision: {precision_score(y_test, y_pred)}')\n",
    "print(f'Recall: {recall_score(y_test, y_pred)}')\n",
    "print(f'f1_score: {f1_score(y_test, y_pred)}')"
   ]
  },
  {
   "cell_type": "markdown",
   "metadata": {},
   "source": [
    "##### Hyperparameter Tuning for SVM"
   ]
  },
  {
   "cell_type": "code",
   "execution_count": 85,
   "metadata": {},
   "outputs": [
    {
     "name": "stdout",
     "output_type": "stream",
     "text": [
      "Best Parameters: {'C': 1, 'gamma': 'scale', 'kernel': 'linear'}\n",
      "Best Score: 0.9363965744400528\n"
     ]
    }
   ],
   "source": [
    "from sklearn.svm import SVC\n",
    "from sklearn.model_selection import GridSearchCV\n",
    "\n",
    "# Define the parameter grid\n",
    "param_grid = {\n",
    "    'C': [0.1, 1, 10],\n",
    "    'kernel': ['linear', 'rbf'],\n",
    "    'gamma': ['scale', 'auto'],\n",
    "}\n",
    "\n",
    "# Create the SVM model\n",
    "svm = SVC()\n",
    "\n",
    "# Create the GridSearchCV object\n",
    "grid_search = GridSearchCV(svm, param_grid, cv=5, scoring='roc_auc')\n",
    "\n",
    "# Fit the GridSearchCV object to the training data\n",
    "grid_search.fit(X_train_scaled, y_train)\n",
    "\n",
    "# Get the best parameters and best score\n",
    "best_params_svm = grid_search.best_params_\n",
    "best_score = grid_search.best_score_\n",
    "\n",
    "# Print the best parameters and best score\n",
    "print(\"Best Parameters:\", best_params_svm)\n",
    "print(\"Best Score:\", best_score)"
   ]
  },
  {
   "cell_type": "code",
   "execution_count": 86,
   "metadata": {},
   "outputs": [],
   "source": [
    "svc = SVC(**best_params_svm, probability=True)\n",
    "svc.fit(X_train_scaled, y_train)\n",
    "\n",
    "y_pred_svc = svc.predict(X_test_scaled)"
   ]
  },
  {
   "cell_type": "code",
   "execution_count": 87,
   "metadata": {},
   "outputs": [
    {
     "name": "stdout",
     "output_type": "stream",
     "text": [
      "Accuracy: 0.8837209302325582\n",
      "Precision: 0.90625\n",
      "Recall: 0.9354838709677419\n",
      "f1_score: 0.9206349206349206\n",
      "ROC AUC Score: 0.842741935483871\n"
     ]
    }
   ],
   "source": [
    "from sklearn.metrics import accuracy_score, precision_score, recall_score, f1_score\n",
    "\n",
    "print(f'Accuracy: {accuracy_score(y_test, y_pred_svc)}')\n",
    "print(f'Precision: {precision_score(y_test, y_pred_svc)}')\n",
    "print(f'Recall: {recall_score(y_test, y_pred_svc)}')\n",
    "print(f'f1_score: {f1_score(y_test, y_pred_svc)}')\n",
    "print(f'ROC AUC Score: {roc_auc_score(y_test, y_pred_svc)}')"
   ]
  },
  {
   "cell_type": "markdown",
   "metadata": {},
   "source": [
    "#### Model Evaluation"
   ]
  },
  {
   "cell_type": "code",
   "execution_count": 88,
   "metadata": {},
   "outputs": [
    {
     "name": "stdout",
     "output_type": "stream",
     "text": [
      "Logistic Regression Evaluation Metrics:\n",
      "              precision    recall  f1-score   support\n",
      "\n",
      "           0       0.82      0.75      0.78        12\n",
      "           1       0.91      0.94      0.92        31\n",
      "\n",
      "    accuracy                           0.88        43\n",
      "   macro avg       0.86      0.84      0.85        43\n",
      "weighted avg       0.88      0.88      0.88        43\n",
      "\n",
      "Random Forest Evaluation Metrics:\n",
      "              precision    recall  f1-score   support\n",
      "\n",
      "           0       0.71      0.42      0.53        12\n",
      "           1       0.81      0.94      0.87        31\n",
      "\n",
      "    accuracy                           0.79        43\n",
      "   macro avg       0.76      0.68      0.70        43\n",
      "weighted avg       0.78      0.79      0.77        43\n",
      "\n",
      "SVM Evaluation Metrics:\n",
      "              precision    recall  f1-score   support\n",
      "\n",
      "           0       0.82      0.75      0.78        12\n",
      "           1       0.91      0.94      0.92        31\n",
      "\n",
      "    accuracy                           0.88        43\n",
      "   macro avg       0.86      0.84      0.85        43\n",
      "weighted avg       0.88      0.88      0.88        43\n",
      "\n"
     ]
    }
   ],
   "source": [
    "from sklearn.metrics import classification_report\n",
    "\n",
    "# Calculate evaluation metrics for logistic regression\n",
    "log_reg_report = classification_report(y_test, y_pred_lr)\n",
    "print(\"Logistic Regression Evaluation Metrics:\")\n",
    "print(log_reg_report)\n",
    "\n",
    "# Calculate evaluation metrics for random forest\n",
    "rf_report = classification_report(y_test, y_pred_rf)\n",
    "print(\"Random Forest Evaluation Metrics:\")\n",
    "print(rf_report)\n",
    "\n",
    "# Calculate evaluation metrics for SVM\n",
    "svc_report = classification_report(y_test, y_pred_svc)\n",
    "print(\"SVM Evaluation Metrics:\")\n",
    "print(svc_report)"
   ]
  },
  {
   "cell_type": "markdown",
   "metadata": {},
   "source": [
    "Logistic Regression and SVM perform equally well and outperform Random Forest.\n",
    "All models show better performance on the \"Placed\" class (1), suggesting the dataset might be imbalanced with more \"Placed\" instances.\n",
    "Random Forest struggles with identifying \"Not Placed\" students (low recall of 0.42 for class 0).\n",
    "The high precision for class 1 across all models indicates good reliability when predicting a student will be placed.\n",
    "The support values (12 for class 0, 31 for class 1) confirm the dataset is imbalanced."
   ]
  },
  {
   "cell_type": "code",
   "execution_count": 89,
   "metadata": {},
   "outputs": [
    {
     "data": {
      "image/png": "[encoded data removed]",
      "text/plain": [
       "<Figure size 432x288 with 2 Axes>"
      ]
     },
     "metadata": {
      "needs_background": "light"
     },
     "output_type": "display_data"
    },
    {
     "data": {
      "image/png": "[encoded data removed]",
      "text/plain": [
       "<Figure size 432x288 with 2 Axes>"
      ]
     },
     "metadata": {
      "needs_background": "light"
     },
     "output_type": "display_data"
    },
    {
     "data": {
      "image/png": "[encoded data removed]",
      "text/plain": [
       "<Figure size 432x288 with 2 Axes>"
      ]
     },
     "metadata": {
      "needs_background": "light"
     },
     "output_type": "display_data"
    }
   ],
   "source": [
    "import seaborn as sns\n",
    "from sklearn.metrics import confusion_matrix\n",
    "\n",
    "import matplotlib.pyplot as plt\n",
    "\n",
    "# Define the labels for the confusion matrix\n",
    "labels = ['Not Placed', 'Placed']\n",
    "\n",
    "# Create a confusion matrix for each model\n",
    "confusion_lr = confusion_matrix(y_test, y_pred_lr)\n",
    "confusion_rf = confusion_matrix(y_test, y_pred_rf)\n",
    "confusion_svc = confusion_matrix(y_test, y_pred_svc)\n",
    "\n",
    "# Plot the confusion matrix for logistic regression\n",
    "plt.figure(figsize=(6, 4))\n",
    "sns.heatmap(confusion_lr, annot=True, fmt='d', cmap='Blues', xticklabels=labels, yticklabels=labels)\n",
    "plt.title('Confusion Matrix - Logistic Regression')\n",
    "plt.xlabel('Predicted')\n",
    "plt.ylabel('Actual')\n",
    "plt.show()\n",
    "\n",
    "# Plot the confusion matrix for random forest\n",
    "plt.figure(figsize=(6, 4))\n",
    "sns.heatmap(confusion_rf, annot=True, fmt='d', cmap='Blues', xticklabels=labels, yticklabels=labels)\n",
    "plt.title('Confusion Matrix - Random Forest')\n",
    "plt.xlabel('Predicted')\n",
    "plt.ylabel('Actual')\n",
    "plt.show()\n",
    "\n",
    "# Plot the confusion matrix for SVM\n",
    "plt.figure(figsize=(6, 4))\n",
    "sns.heatmap(confusion_svc, annot=True, fmt='d', cmap='Blues', xticklabels=labels, yticklabels=labels)\n",
    "plt.title('Confusion Matrix - SVM')\n",
    "plt.xlabel('Predicted')\n",
    "plt.ylabel('Actual')\n",
    "plt.show()"
   ]
  },
  {
   "cell_type": "markdown",
   "metadata": {},
   "source": [
    "Interpretation of Results:\n",
    "\n",
    "Logistic Regression and SVM:\n",
    "\n",
    "Very good at identifying students who will be placed (29 out of 31).\n",
    "Misclassified only 3 students as placed when they weren't.\n",
    "Correctly identified 9 out of 12 students who weren't placed.\n",
    "\n",
    "Random Forest:\n",
    "\n",
    "Equally good at identifying students who will be placed (29 out of 31).\n",
    "More likely to misclassify students as placed when they weren't (7 false positives).\n",
    "Only correctly identified 5 out of 12 students who weren't placed.\n",
    "\n",
    "\n",
    "Implications for Campus Placement:\n",
    "\n",
    "High Recall (94% for all models): This is crucial for identifying most students who will be placed. It's beneficial for the institution's reputation and for not missing opportunities to support promising candidates.\n",
    "Precision (91% for Logistic Regression/SVM, 81% for Random Forest): Higher precision means fewer false hopes given to students. Logistic Regression and SVM are better in this regard.\n",
    "False Positives: These could lead to overconfidence in some students who might not prepare adequately for job searches. Random Forest has more of these, which could be problematic.\n",
    "False Negatives: All models miss 2 students who actually get placed. This could result in not providing enough support to some deserving candidates.\n",
    "\n",
    "\n",
    "Model Selection for Campus Placement:\n",
    "\n",
    "Logistic Regression or SVM would be preferable here. They balance well between identifying most placed students and not giving false hope to too many unplaced students.\n",
    "Random Forest, while good at identifying placed students, might create too much false optimism by overpredicting placement.\n",
    "\n",
    "In conclusion, while all models perform reasonably well, Logistic Regression and SVM show slightly better and more balanced performance across all metrics compared to Random Forest in this specific classification task."
   ]
  },
  {
   "cell_type": "code",
   "execution_count": 90,
   "metadata": {},
   "outputs": [
    {
     "data": {
      "image/png": "[encoded data removed]",
      "text/plain": [
       "<Figure size 576x432 with 1 Axes>"
      ]
     },
     "metadata": {
      "needs_background": "light"
     },
     "output_type": "display_data"
    }
   ],
   "source": [
    "from sklearn.metrics import roc_curve, auc\n",
    "\n",
    "# Predict probabilities for Logistic Regression\n",
    "y_score_log_reg = log_reg.predict_proba(X_test_scaled)[:, -1]\n",
    "fpr_log_reg, tpr_log_reg, _ = roc_curve(y_test, y_score_log_reg)\n",
    "roc_auc_log_reg = auc(fpr_log_reg, tpr_log_reg)\n",
    "\n",
    "# Plot ROC curve for Logistic Regression\n",
    "plt.figure(figsize=(8, 6))\n",
    "plt.plot(fpr_log_reg, tpr_log_reg, color='darkorange', lw=2, label=f'ROC curve (AUC = {roc_auc_log_reg:.2f})')\n",
    "plt.plot([0, 1], [0, 1], color='navy', lw=2, linestyle='--')\n",
    "plt.xlim([0.0, 1.0])\n",
    "plt.ylim([0.0, 1.05])\n",
    "plt.xlabel('False Positive Rate')\n",
    "plt.ylabel('True Positive Rate')\n",
    "plt.title('Logistic Regression ROC Curve')\n",
    "plt.legend(loc=\"lower right\")\n",
    "plt.show()"
   ]
  },
  {
   "cell_type": "code",
   "execution_count": 91,
   "metadata": {},
   "outputs": [
    {
     "data": {
      "image/png": "[encoded data removed]",
      "text/plain": [
       "<Figure size 576x432 with 1 Axes>"
      ]
     },
     "metadata": {
      "needs_background": "light"
     },
     "output_type": "display_data"
    }
   ],
   "source": [
    "# Predict probabilities for Random Forest\n",
    "y_score_rf = rf.predict_proba(X_test)[:, -1]\n",
    "fpr_rf, tpr_rf, _ = roc_curve(y_test, y_score_rf)\n",
    "roc_auc_rf = auc(fpr_rf, tpr_rf)\n",
    "\n",
    "# Plot ROC curve for Random Forest\n",
    "plt.figure(figsize=(8, 6))\n",
    "plt.plot(fpr_rf, tpr_rf, color='darkorange', lw=2, label=f'ROC curve (AUC = {roc_auc_rf:.2f})')\n",
    "plt.plot([0, 1], [0, 1], color='navy', lw=2, linestyle='--')\n",
    "plt.xlim([0.0, 1.0])\n",
    "plt.ylim([0.0, 1.05])\n",
    "plt.xlabel('False Positive Rate')\n",
    "plt.ylabel('True Positive Rate')\n",
    "plt.title('Random Forest ROC Curve')\n",
    "plt.legend(loc=\"lower right\")\n",
    "plt.show()\n"
   ]
  },
  {
   "cell_type": "code",
   "execution_count": 92,
   "metadata": {},
   "outputs": [
    {
     "data": {
      "image/png": "[encoded data removed]",
      "text/plain": [
       "<Figure size 576x432 with 1 Axes>"
      ]
     },
     "metadata": {
      "needs_background": "light"
     },
     "output_type": "display_data"
    }
   ],
   "source": [
    "# Predict probabilities for SVM\n",
    "y_score_svm = svc.predict_proba(X_test_scaled)[:, -1]\n",
    "fpr_svm, tpr_svm, _ = roc_curve(y_test, y_score_svm)\n",
    "roc_auc_svm = auc(fpr_svm, tpr_svm)\n",
    "\n",
    "# Plot ROC curve for SVM\n",
    "plt.figure(figsize=(8, 6))\n",
    "plt.plot(fpr_svm, tpr_svm, color='darkorange', lw=2, label=f'ROC curve (AUC = {roc_auc_svm:.2f})')\n",
    "plt.plot([0, 1], [0, 1], color='navy', lw=2, linestyle='--')\n",
    "plt.xlim([0.0, 1.0])\n",
    "plt.ylim([0.0, 1.05])\n",
    "plt.xlabel('False Positive Rate')\n",
    "plt.ylabel('True Positive Rate')\n",
    "plt.title('SVM ROC Curve')\n",
    "plt.legend(loc=\"lower right\")\n",
    "plt.show()\n"
   ]
  },
  {
   "cell_type": "markdown",
   "metadata": {},
   "source": [
    "Comparing the ROC curves and AUC values of the three models reveals that SVM performs best with an AUC of 0.94, followed closely by Logistic Regression at 0.93, while Random Forest lags slightly with an AUC of 0.85. All models demonstrate good discriminative ability, significantly outperforming random chance. SVM and Logistic Regression show similar performance patterns with steep initial curves, indicating high true positive rates even at low false positive rates. Random Forest, while still performing well, has a more gradual curve and lower true positive rates at low false positive thresholds. The choice between SVM and Logistic Regression might depend on whether non-linear relationships or interpretability is more important for the specific application, while Random Forest could be considered if ensemble methods or feature importance are desired despite its slightly lower overall performance."
   ]
  },
  {
   "cell_type": "code",
   "execution_count": 93,
   "metadata": {},
   "outputs": [
    {
     "name": "stdout",
     "output_type": "stream",
     "text": [
      "Accuracy: 0.8604651162790697\n",
      "Precision: 0.8787878787878788\n",
      "Recall: 0.9354838709677419\n",
      "f1_score: 0.90625\n",
      "ROC AUC Score: 0.8010752688172044\n"
     ]
    }
   ],
   "source": [
    "from sklearn.ensemble import VotingClassifier\n",
    "from sklearn.metrics import accuracy_score, precision_score, recall_score, f1_score, roc_auc_score\n",
    "\n",
    "# Create the voting classifier\n",
    "voting_clf = VotingClassifier(\n",
    "    estimators=[\n",
    "        ('log_reg', LogisticRegression(**best_params_lr)),\n",
    "        ('random_forest', RandomForestClassifier(**best_params_rf)),\n",
    "        ('svm', SVC(**best_params_svm, probability=True))\n",
    "    ],\n",
    "    voting='soft'  # Use soft voting for probability-based predictions,\n",
    ")\n",
    "\n",
    "# Fit the voting classifier to the training data\n",
    "voting_clf.fit(X_train_scaled, y_train)\n",
    "\n",
    "# Predict the target variable using the voting classifier\n",
    "y_pred_voting = voting_clf.predict(X_test_scaled)\n",
    "\n",
    "# Evaluate the performance of the voting classifier\n",
    "\n",
    "print(f'Accuracy: {accuracy_score(y_test, y_pred_voting)}')\n",
    "print(f'Precision: {precision_score(y_test, y_pred_voting)}')\n",
    "print(f'Recall: {recall_score(y_test, y_pred_voting)}')\n",
    "print(f'f1_score: {f1_score(y_test, y_pred_voting)}')\n",
    "print(f'ROC AUC Score: {roc_auc_score(y_test, y_pred_voting)}')"
   ]
  },
  {
   "cell_type": "code",
   "execution_count": 97,
   "metadata": {},
   "outputs": [
    {
     "data": {
      "image/png": "[encoded data removed]",
      "text/plain": [
       "<Figure size 576x432 with 1 Axes>"
      ]
     },
     "metadata": {
      "needs_background": "light"
     },
     "output_type": "display_data"
    }
   ],
   "source": [
    "# Predict probabilities for SVM\n",
    "y_score_voting = voting_clf.predict_proba(X_test_scaled)[:, -1]\n",
    "fpr_voting, tpr_voting, _ = roc_curve(y_test, y_score_voting)\n",
    "roc_auc_voting = auc(fpr_voting, tpr_voting)\n",
    "\n",
    "# Plot ROC curve for SVM\n",
    "plt.figure(figsize=(8, 6))\n",
    "plt.plot(fpr_voting, tpr_voting, color='darkorange', lw=2, label=f'ROC curve (AUC = {roc_auc_voting:.2f})')\n",
    "plt.plot([0, 1], [0, 1], color='navy', lw=2, linestyle='--')\n",
    "plt.xlim([0.0, 1.0])\n",
    "plt.ylim([0.0, 1.05])\n",
    "plt.xlabel('False Positive Rate')\n",
    "plt.ylabel('True Positive Rate')\n",
    "plt.title('Voting Classifier ROC Curve')\n",
    "plt.legend(loc=\"lower right\")\n",
    "plt.show()\n"
   ]
  },
  {
   "cell_type": "markdown",
   "metadata": {},
   "source": [
    "The Voting Classifier demonstrates strong performance with an AUC of 0.94, matching the best individual model (SVM) from the previous results. This indicates that the ensemble approach effectively combines the strengths of Logistic Regression (AUC 0.93), Random Forest (AUC 0.85), and SVM (AUC 0.94) without degrading performance. The Voting Classifier maintains the high discrimination ability of the best model, as evidenced by its steep ROC curve, particularly at low false positive rates. While it doesn't surpass the top individual model, it equals its performance, suggesting that the voting strategy successfully leverages the collective predictive power of all three models. This result highlights the potential benefits of ensemble methods in achieving robust and reliable predictions across different classification thresholds."
   ]
  },
  {
   "cell_type": "markdown",
   "metadata": {},
   "source": [
    "#### Conclusion"
   ]
  },
  {
   "cell_type": "markdown",
   "metadata": {},
   "source": [
    "The models evaluated show varying performances across different metrics. Logistic Regression and Support Vector Machine (SVM) models performed similarly well, achieving high accuracy, precision, recall, and F1 scores, with ROC AUC scores of 84%. The Random Forest Classifier had lower performance in terms of accuracy, ROC AUC, and precision, indicating it might not be as effective for this dataset. The Voting Classifier, an ensemble method, performed well overall, achieving balanced results with a high recall of 94% and an F1 score of 91%, making it a robust choice for this classification task."
   ]
  }
 ],
 "metadata": {
  "kernelspec": {
   "display_name": "Python 3",
   "language": "python",
   "name": "python3"
  },
  "language_info": {
   "codemirror_mode": {
    "name": "ipython",
    "version": 3
   },
   "file_extension": ".py",
   "mimetype": "text/x-python",
   "name": "python",
   "nbconvert_exporter": "python",
   "pygments_lexer": "ipython3",
   "version": "3.11.3"
  }
 },
 "nbformat": 4,
 "nbformat_minor": 2
}
